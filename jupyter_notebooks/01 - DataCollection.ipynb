{
 "cells": [
  {
   "cell_type": "markdown",
   "metadata": {
    "id": "0aStgWSO0E0E"
   },
   "source": [
    "# **Data Collection Notebook - CBC Thalassemia Screening**"
   ]
  },
  {
   "cell_type": "markdown",
   "metadata": {
    "id": "1eLEkw5O0ECa"
   },
   "source": [
    "## Objectives\n",
    "\n",
    "* Collect CBC (Complete Blood Count) data with thalassemia phenotype labels\n",
    "* Load and inspect the dataset with hemoglobin electrophoresis results\n",
    "* Save raw data for further processing\n",
    "* Perform initial data quality assessment\n",
    "\n",
    "## Inputs\n",
    "\n",
    "* CSV file with columns: sex, hb, pcv, rbc, mcv, mch, mchc, rdw, wbc, neut, lymph, plt, hba, hba2, hbf, phenotype\n",
    "\n",
    "## Outputs\n",
    "\n",
    "* Storing Dataset: outputs/datasets/collection/thalassemia_data.csv\n",
    "* Data inspection report\n",
    "* Initial data quality assessment\n",
    "\n",
    "## Dataset Structure\n",
    "\n",
    "* **sex**: Gender (male/female)\n",
    "* **hb**: Hemoglobin level (g/dL)\n",
    "* **pcv**: Packed Cell Volume/Hematocrit (%)\n",
    "* **rbc**: Red Blood Cell count (million/μL)\n",
    "* **mcv**: Mean Corpuscular Volume (fL)\n",
    "* **mch**: Mean Corpuscular Hemoglobin (pg)\n",
    "* **mchc**: Mean Corpuscular Hemoglobin Concentration (g/dL)\n",
    "* **rdw**: Red Cell Distribution Width (%)\n",
    "* **wbc**: White Blood Cell count (thousand/μL)\n",
    "* **neut**: Neutrophils (%)\n",
    "* **lymph**: Lymphocytes (%)\n",
    "* **plt**: Platelet count (thousand/μL)\n",
    "* **hba**: Hemoglobin A (%)\n",
    "* **hba2**: Hemoglobin A2 (%)\n",
    "* **hbf**: Hemoglobin F (%)\n",
    "* **phenotype**: Thalassemia classification (carrier, normal)\n"
   ]
  },
  {
   "cell_type": "markdown",
   "metadata": {
    "id": "9uWZXH9LwoQg"
   },
   "source": [
    "---"
   ]
  },
  {
   "cell_type": "markdown",
   "metadata": {},
   "source": [
    "# Change working directory"
   ]
  },
  {
   "cell_type": "code",
   "execution_count": 1,
   "metadata": {},
   "outputs": [
    {
     "data": {
      "text/plain": [
       "'/Users/nour/Desktop/DiplomaProjects/ThalassemiaPredictor/thalassemia_predictor/jupyter_notebooks'"
      ]
     },
     "execution_count": 1,
     "metadata": {},
     "output_type": "execute_result"
    }
   ],
   "source": [
    "import os\n",
    "current_dir = os.getcwd()\n",
    "current_dir"
   ]
  },
  {
   "cell_type": "code",
   "execution_count": 2,
   "metadata": {},
   "outputs": [
    {
     "name": "stdout",
     "output_type": "stream",
     "text": [
      "You set a new current directory\n"
     ]
    }
   ],
   "source": [
    "os.chdir(os.path.dirname(current_dir))\n",
    "print(\"You set a new current directory\")"
   ]
  },
  {
   "cell_type": "code",
   "execution_count": 3,
   "metadata": {},
   "outputs": [
    {
     "data": {
      "text/plain": [
       "'/Users/nour/Desktop/DiplomaProjects/ThalassemiaPredictor/thalassemia_predictor'"
      ]
     },
     "execution_count": 3,
     "metadata": {},
     "output_type": "execute_result"
    }
   ],
   "source": [
    "current_dir = os.getcwd()\n",
    "current_dir"
   ]
  },
  {
   "cell_type": "markdown",
   "metadata": {},
   "source": [
    "# Fetch Data from sources"
   ]
  },
  {
   "cell_type": "markdown",
   "metadata": {},
   "source": [
    "### Fetch Data from \"letslive/alpha-thalassemia-dataset\""
   ]
  },
  {
   "cell_type": "code",
   "execution_count": 4,
   "metadata": {},
   "outputs": [
    {
     "name": "stdout",
     "output_type": "stream",
     "text": [
      "Requirement already satisfied: kaggle in /Users/nour/Desktop/MKDiploma/WalkthroughProject01/venv/lib/python3.9/site-packages (1.7.4.5)\n",
      "Requirement already satisfied: bleach in /Users/nour/Desktop/MKDiploma/WalkthroughProject01/venv/lib/python3.9/site-packages (from kaggle) (6.2.0)\n",
      "Requirement already satisfied: certifi>=14.05.14 in /Users/nour/Desktop/MKDiploma/WalkthroughProject01/venv/lib/python3.9/site-packages (from kaggle) (2025.8.3)\n",
      "Requirement already satisfied: charset-normalizer in /Users/nour/Desktop/MKDiploma/WalkthroughProject01/venv/lib/python3.9/site-packages (from kaggle) (3.4.3)\n",
      "Requirement already satisfied: idna in /Users/nour/Desktop/MKDiploma/WalkthroughProject01/venv/lib/python3.9/site-packages (from kaggle) (3.10)\n",
      "Requirement already satisfied: protobuf in /Users/nour/Desktop/MKDiploma/WalkthroughProject01/venv/lib/python3.9/site-packages (from kaggle) (6.32.0)\n",
      "Requirement already satisfied: python-dateutil>=2.5.3 in /Users/nour/Desktop/MKDiploma/WalkthroughProject01/venv/lib/python3.9/site-packages (from kaggle) (2.9.0.post0)\n",
      "Requirement already satisfied: python-slugify in /Users/nour/Desktop/MKDiploma/WalkthroughProject01/venv/lib/python3.9/site-packages (from kaggle) (8.0.4)\n",
      "Requirement already satisfied: requests in /Users/nour/Desktop/MKDiploma/WalkthroughProject01/venv/lib/python3.9/site-packages (from kaggle) (2.32.4)\n",
      "Requirement already satisfied: setuptools>=21.0.0 in /Users/nour/Desktop/MKDiploma/WalkthroughProject01/venv/lib/python3.9/site-packages (from kaggle) (58.0.4)\n",
      "Requirement already satisfied: six>=1.10 in /Users/nour/Desktop/MKDiploma/WalkthroughProject01/venv/lib/python3.9/site-packages (from kaggle) (1.17.0)\n",
      "Requirement already satisfied: text-unidecode in /Users/nour/Desktop/MKDiploma/WalkthroughProject01/venv/lib/python3.9/site-packages (from kaggle) (1.3)\n",
      "Requirement already satisfied: tqdm in /Users/nour/Desktop/MKDiploma/WalkthroughProject01/venv/lib/python3.9/site-packages (from kaggle) (4.67.1)\n",
      "Requirement already satisfied: urllib3>=1.15.1 in /Users/nour/Desktop/MKDiploma/WalkthroughProject01/venv/lib/python3.9/site-packages (from kaggle) (2.5.0)\n",
      "Requirement already satisfied: webencodings in /Users/nour/Desktop/MKDiploma/WalkthroughProject01/venv/lib/python3.9/site-packages (from kaggle) (0.5.1)\n",
      "Note: you may need to restart the kernel to use updated packages.\n"
     ]
    }
   ],
   "source": [
    "%pip install kaggle"
   ]
  },
  {
   "cell_type": "code",
   "execution_count": 10,
   "metadata": {},
   "outputs": [
    {
     "name": "stdout",
     "output_type": "stream",
     "text": [
      "Dataset URL: https://www.kaggle.com/datasets/letslive/alpha-thalassemia-dataset\n"
     ]
    }
   ],
   "source": [
    "import kaggle\n",
    "\n",
    "dataset = \"letslive/alpha-thalassemia-dataset\"\n",
    "data_path = current_dir + \"/inputs\"\n",
    "\n",
    "kaggle.api.dataset_download_files(dataset, path=data_path, unzip=True)"
   ]
  },
  {
   "cell_type": "code",
   "execution_count": 11,
   "metadata": {},
   "outputs": [],
   "source": [
    "import pandas as pd\n",
    "import numpy as np\n",
    "import matplotlib.pyplot as plt\n",
    "import seaborn as sns\n",
    "from datetime import datetime\n",
    "import warnings\n",
    "warnings.filterwarnings('ignore')\n",
    "\n",
    "# Set display options\n",
    "pd.set_option('display.max_columns', None)\n",
    "pd.set_option('display.max_rows', 100)"
   ]
  },
  {
   "cell_type": "markdown",
   "metadata": {
    "id": "ZY3l0-AxO93d"
   },
   "source": [
    "---"
   ]
  },
  {
   "cell_type": "markdown",
   "metadata": {},
   "source": [
    "### Check Kaggle data"
   ]
  },
  {
   "cell_type": "code",
   "execution_count": 12,
   "metadata": {},
   "outputs": [
    {
     "data": {
      "text/plain": [
       "['twoalphas.csv', 'alphanorm.csv']"
      ]
     },
     "execution_count": 12,
     "metadata": {},
     "output_type": "execute_result"
    }
   ],
   "source": [
    "files = os.listdir(data_path)\n",
    "files"
   ]
  },
  {
   "cell_type": "markdown",
   "metadata": {},
   "source": [
    "## Inspect files content"
   ]
  },
  {
   "cell_type": "code",
   "execution_count": 13,
   "metadata": {},
   "outputs": [
    {
     "name": "stdout",
     "output_type": "stream",
     "text": [
      "File: twoalphas.csv\n"
     ]
    },
    {
     "data": {
      "text/html": [
       "<div>\n",
       "<style scoped>\n",
       "    .dataframe tbody tr th:only-of-type {\n",
       "        vertical-align: middle;\n",
       "    }\n",
       "\n",
       "    .dataframe tbody tr th {\n",
       "        vertical-align: top;\n",
       "    }\n",
       "\n",
       "    .dataframe thead th {\n",
       "        text-align: right;\n",
       "    }\n",
       "</style>\n",
       "<table border=\"1\" class=\"dataframe\">\n",
       "  <thead>\n",
       "    <tr style=\"text-align: right;\">\n",
       "      <th></th>\n",
       "      <th>sex</th>\n",
       "      <th>hb</th>\n",
       "      <th>pcv</th>\n",
       "      <th>rbc</th>\n",
       "      <th>mcv</th>\n",
       "      <th>mch</th>\n",
       "      <th>mchc</th>\n",
       "      <th>rdw</th>\n",
       "      <th>wbc</th>\n",
       "      <th>neut</th>\n",
       "      <th>lymph</th>\n",
       "      <th>plt</th>\n",
       "      <th>hba</th>\n",
       "      <th>hba2</th>\n",
       "      <th>hbf</th>\n",
       "      <th>phenotype</th>\n",
       "    </tr>\n",
       "  </thead>\n",
       "  <tbody>\n",
       "    <tr>\n",
       "      <th>0</th>\n",
       "      <td>female</td>\n",
       "      <td>10.8</td>\n",
       "      <td>35.2</td>\n",
       "      <td>5.12</td>\n",
       "      <td>68.7</td>\n",
       "      <td>21.2</td>\n",
       "      <td>30.8</td>\n",
       "      <td>13.4</td>\n",
       "      <td>9.6</td>\n",
       "      <td>53.0</td>\n",
       "      <td>33.0</td>\n",
       "      <td>309.0</td>\n",
       "      <td>88.5</td>\n",
       "      <td>2.6</td>\n",
       "      <td>0.11</td>\n",
       "      <td>alpha trait</td>\n",
       "    </tr>\n",
       "    <tr>\n",
       "      <th>1</th>\n",
       "      <td>male</td>\n",
       "      <td>10.8</td>\n",
       "      <td>26.6</td>\n",
       "      <td>4.28</td>\n",
       "      <td>62.1</td>\n",
       "      <td>25.3</td>\n",
       "      <td>40.8</td>\n",
       "      <td>19.8</td>\n",
       "      <td>10.3</td>\n",
       "      <td>49.4</td>\n",
       "      <td>43.1</td>\n",
       "      <td>687.0</td>\n",
       "      <td>87.8</td>\n",
       "      <td>2.4</td>\n",
       "      <td>0.90</td>\n",
       "      <td>alpha trait</td>\n",
       "    </tr>\n",
       "    <tr>\n",
       "      <th>2</th>\n",
       "      <td>female</td>\n",
       "      <td>10.8</td>\n",
       "      <td>35.2</td>\n",
       "      <td>5.12</td>\n",
       "      <td>68.7</td>\n",
       "      <td>21.2</td>\n",
       "      <td>30.8</td>\n",
       "      <td>13.4</td>\n",
       "      <td>9.6</td>\n",
       "      <td>53.0</td>\n",
       "      <td>33.0</td>\n",
       "      <td>309.0</td>\n",
       "      <td>88.5</td>\n",
       "      <td>2.6</td>\n",
       "      <td>0.10</td>\n",
       "      <td>silent carrier</td>\n",
       "    </tr>\n",
       "    <tr>\n",
       "      <th>3</th>\n",
       "      <td>male</td>\n",
       "      <td>14.5</td>\n",
       "      <td>43.5</td>\n",
       "      <td>5.17</td>\n",
       "      <td>84.0</td>\n",
       "      <td>28.0</td>\n",
       "      <td>33.4</td>\n",
       "      <td>12.1</td>\n",
       "      <td>11.9</td>\n",
       "      <td>31.0</td>\n",
       "      <td>50.0</td>\n",
       "      <td>334.0</td>\n",
       "      <td>86.8</td>\n",
       "      <td>2.8</td>\n",
       "      <td>0.30</td>\n",
       "      <td>silent carrier</td>\n",
       "    </tr>\n",
       "    <tr>\n",
       "      <th>4</th>\n",
       "      <td>male</td>\n",
       "      <td>11.5</td>\n",
       "      <td>34.4</td>\n",
       "      <td>5.02</td>\n",
       "      <td>68.7</td>\n",
       "      <td>22.9</td>\n",
       "      <td>33.4</td>\n",
       "      <td>15.7</td>\n",
       "      <td>20.4</td>\n",
       "      <td>67.0</td>\n",
       "      <td>30.0</td>\n",
       "      <td>596.0</td>\n",
       "      <td>86.3</td>\n",
       "      <td>2.4</td>\n",
       "      <td>1.30</td>\n",
       "      <td>silent carrier</td>\n",
       "    </tr>\n",
       "  </tbody>\n",
       "</table>\n",
       "</div>"
      ],
      "text/plain": [
       "      sex    hb   pcv   rbc   mcv   mch  mchc   rdw   wbc  neut  lymph    plt  \\\n",
       "0  female  10.8  35.2  5.12  68.7  21.2  30.8  13.4   9.6  53.0   33.0  309.0   \n",
       "1    male  10.8  26.6  4.28  62.1  25.3  40.8  19.8  10.3  49.4   43.1  687.0   \n",
       "2  female  10.8  35.2  5.12  68.7  21.2  30.8  13.4   9.6  53.0   33.0  309.0   \n",
       "3    male  14.5  43.5  5.17  84.0  28.0  33.4  12.1  11.9  31.0   50.0  334.0   \n",
       "4    male  11.5  34.4  5.02  68.7  22.9  33.4  15.7  20.4  67.0   30.0  596.0   \n",
       "\n",
       "    hba  hba2   hbf       phenotype  \n",
       "0  88.5   2.6  0.11     alpha trait  \n",
       "1  87.8   2.4  0.90     alpha trait  \n",
       "2  88.5   2.6  0.10  silent carrier  \n",
       "3  86.8   2.8  0.30  silent carrier  \n",
       "4  86.3   2.4  1.30  silent carrier  "
      ]
     },
     "metadata": {},
     "output_type": "display_data"
    },
    {
     "name": "stdout",
     "output_type": "stream",
     "text": [
      "Shape: (147, 16)\n",
      "--------------------------------------------------\n",
      "File: alphanorm.csv\n"
     ]
    },
    {
     "data": {
      "text/html": [
       "<div>\n",
       "<style scoped>\n",
       "    .dataframe tbody tr th:only-of-type {\n",
       "        vertical-align: middle;\n",
       "    }\n",
       "\n",
       "    .dataframe tbody tr th {\n",
       "        vertical-align: top;\n",
       "    }\n",
       "\n",
       "    .dataframe thead th {\n",
       "        text-align: right;\n",
       "    }\n",
       "</style>\n",
       "<table border=\"1\" class=\"dataframe\">\n",
       "  <thead>\n",
       "    <tr style=\"text-align: right;\">\n",
       "      <th></th>\n",
       "      <th>sex</th>\n",
       "      <th>hb</th>\n",
       "      <th>pcv</th>\n",
       "      <th>rbc</th>\n",
       "      <th>mcv</th>\n",
       "      <th>mch</th>\n",
       "      <th>mchc</th>\n",
       "      <th>rdw</th>\n",
       "      <th>wbc</th>\n",
       "      <th>neut</th>\n",
       "      <th>lymph</th>\n",
       "      <th>plt</th>\n",
       "      <th>hba</th>\n",
       "      <th>hba2</th>\n",
       "      <th>hbf</th>\n",
       "      <th>phenotype</th>\n",
       "    </tr>\n",
       "  </thead>\n",
       "  <tbody>\n",
       "    <tr>\n",
       "      <th>0</th>\n",
       "      <td>female</td>\n",
       "      <td>10.8</td>\n",
       "      <td>35.2</td>\n",
       "      <td>5.12</td>\n",
       "      <td>68.7</td>\n",
       "      <td>21.2</td>\n",
       "      <td>30.8</td>\n",
       "      <td>13.4</td>\n",
       "      <td>9.6</td>\n",
       "      <td>53.0</td>\n",
       "      <td>33.0</td>\n",
       "      <td>309.0</td>\n",
       "      <td>88.5</td>\n",
       "      <td>2.6</td>\n",
       "      <td>0.11</td>\n",
       "      <td>alpha carrier</td>\n",
       "    </tr>\n",
       "    <tr>\n",
       "      <th>1</th>\n",
       "      <td>male</td>\n",
       "      <td>10.8</td>\n",
       "      <td>26.6</td>\n",
       "      <td>4.28</td>\n",
       "      <td>62.1</td>\n",
       "      <td>25.3</td>\n",
       "      <td>40.8</td>\n",
       "      <td>19.8</td>\n",
       "      <td>10.3</td>\n",
       "      <td>49.4</td>\n",
       "      <td>43.1</td>\n",
       "      <td>687.0</td>\n",
       "      <td>87.8</td>\n",
       "      <td>2.4</td>\n",
       "      <td>0.90</td>\n",
       "      <td>alpha carrier</td>\n",
       "    </tr>\n",
       "    <tr>\n",
       "      <th>2</th>\n",
       "      <td>female</td>\n",
       "      <td>10.8</td>\n",
       "      <td>35.2</td>\n",
       "      <td>5.12</td>\n",
       "      <td>68.7</td>\n",
       "      <td>21.2</td>\n",
       "      <td>30.8</td>\n",
       "      <td>13.4</td>\n",
       "      <td>9.6</td>\n",
       "      <td>53.0</td>\n",
       "      <td>33.0</td>\n",
       "      <td>309.0</td>\n",
       "      <td>88.5</td>\n",
       "      <td>2.6</td>\n",
       "      <td>0.10</td>\n",
       "      <td>alpha carrier</td>\n",
       "    </tr>\n",
       "    <tr>\n",
       "      <th>3</th>\n",
       "      <td>male</td>\n",
       "      <td>14.5</td>\n",
       "      <td>43.5</td>\n",
       "      <td>5.17</td>\n",
       "      <td>84.0</td>\n",
       "      <td>28.0</td>\n",
       "      <td>33.4</td>\n",
       "      <td>12.1</td>\n",
       "      <td>11.9</td>\n",
       "      <td>31.0</td>\n",
       "      <td>50.0</td>\n",
       "      <td>334.0</td>\n",
       "      <td>86.8</td>\n",
       "      <td>2.8</td>\n",
       "      <td>0.30</td>\n",
       "      <td>alpha carrier</td>\n",
       "    </tr>\n",
       "    <tr>\n",
       "      <th>4</th>\n",
       "      <td>male</td>\n",
       "      <td>11.5</td>\n",
       "      <td>34.4</td>\n",
       "      <td>5.02</td>\n",
       "      <td>68.7</td>\n",
       "      <td>22.9</td>\n",
       "      <td>33.4</td>\n",
       "      <td>15.7</td>\n",
       "      <td>20.4</td>\n",
       "      <td>67.0</td>\n",
       "      <td>30.0</td>\n",
       "      <td>596.0</td>\n",
       "      <td>86.3</td>\n",
       "      <td>2.4</td>\n",
       "      <td>1.30</td>\n",
       "      <td>alpha carrier</td>\n",
       "    </tr>\n",
       "  </tbody>\n",
       "</table>\n",
       "</div>"
      ],
      "text/plain": [
       "      sex    hb   pcv   rbc   mcv   mch  mchc   rdw   wbc  neut  lymph    plt  \\\n",
       "0  female  10.8  35.2  5.12  68.7  21.2  30.8  13.4   9.6  53.0   33.0  309.0   \n",
       "1    male  10.8  26.6  4.28  62.1  25.3  40.8  19.8  10.3  49.4   43.1  687.0   \n",
       "2  female  10.8  35.2  5.12  68.7  21.2  30.8  13.4   9.6  53.0   33.0  309.0   \n",
       "3    male  14.5  43.5  5.17  84.0  28.0  33.4  12.1  11.9  31.0   50.0  334.0   \n",
       "4    male  11.5  34.4  5.02  68.7  22.9  33.4  15.7  20.4  67.0   30.0  596.0   \n",
       "\n",
       "    hba  hba2   hbf      phenotype  \n",
       "0  88.5   2.6  0.11  alpha carrier  \n",
       "1  87.8   2.4  0.90  alpha carrier  \n",
       "2  88.5   2.6  0.10  alpha carrier  \n",
       "3  86.8   2.8  0.30  alpha carrier  \n",
       "4  86.3   2.4  1.30  alpha carrier  "
      ]
     },
     "metadata": {},
     "output_type": "display_data"
    },
    {
     "name": "stdout",
     "output_type": "stream",
     "text": [
      "Shape: (203, 16)\n",
      "--------------------------------------------------\n"
     ]
    }
   ],
   "source": [
    "import pandas as pd\n",
    "for file in files:\n",
    "    if '.csv' in file:\n",
    "        df = pd.read_csv(data_path+'/'+file)\n",
    "        print(f\"File: {file}\")\n",
    "        display(df.head())\n",
    "        print(f\"Shape: {df.shape}\")\n",
    "        print(\"-\" * 50)\n"
   ]
  },
  {
   "cell_type": "markdown",
   "metadata": {},
   "source": [
    "## Push files to repo:"
   ]
  },
  {
   "cell_type": "code",
   "execution_count": 14,
   "metadata": {},
   "outputs": [],
   "source": [
    "import os\n",
    "try:\n",
    "  os.makedirs(name='outputs/datasets/collection') # create outputs/datasets/collection folder\n",
    "except Exception as e:\n",
    "  print(e)\n",
    "\n",
    "df.to_csv(f\"outputs/datasets/collection/alphanorm.csv\",index=False)\n"
   ]
  },
  {
   "cell_type": "code",
   "execution_count": null,
   "metadata": {},
   "outputs": [],
   "source": []
  }
 ],
 "metadata": {
  "accelerator": "GPU",
  "colab": {
   "name": "Data Practitioner Jupyter Notebook.ipynb",
   "provenance": [],
   "toc_visible": true
  },
  "interpreter": {
   "hash": "8b8334dab9339717f727a1deaf837b322d7a41c20d15cc86be99a8e69ceec8ce"
  },
  "kernelspec": {
   "display_name": "Python (venv)",
   "language": "python",
   "name": "venv"
  },
  "language_info": {
   "codemirror_mode": {
    "name": "ipython",
    "version": 3
   },
   "file_extension": ".py",
   "mimetype": "text/x-python",
   "name": "python",
   "nbconvert_exporter": "python",
   "pygments_lexer": "ipython3",
   "version": "3.9.6"
  }
 },
 "nbformat": 4,
 "nbformat_minor": 4
}
