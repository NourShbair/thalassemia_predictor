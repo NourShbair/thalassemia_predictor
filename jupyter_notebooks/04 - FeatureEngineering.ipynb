{
 "cells": [
  {
   "cell_type": "markdown",
   "metadata": {},
   "source": [
    "# Feature Engineering for Thalassemia Analysis\n",
    "\n",
    "## Objectives\n",
    "- Load cleaned Thalassemia data\n",
    "- Create advanced clinical features\n",
    "- Apply feature scaling and selection\n",
    "- Validate feature importance\n",
    "- Prepare optimized dataset for ML"
   ]
  },
  {
   "cell_type": "code",
   "execution_count": 1,
   "metadata": {},
   "outputs": [
    {
     "name": "stdout",
     "output_type": "stream",
     "text": [
      "Working directory: /Users/nour/Desktop/thalassemia_predictor_v2\n"
     ]
    }
   ],
   "source": [
    "import os\n",
    "current_dir = os.getcwd()\n",
    "os.chdir(os.path.dirname(current_dir))\n",
    "print(f\"Working directory: {os.getcwd()}\")"
   ]
  },
  {
   "cell_type": "code",
   "execution_count": 2,
   "metadata": {},
   "outputs": [
    {
     "name": "stdout",
     "output_type": "stream",
     "text": [
      "Libraries imported successfully!\n"
     ]
    }
   ],
   "source": [
    "import pandas as pd\n",
    "import numpy as np\n",
    "import matplotlib.pyplot as plt\n",
    "import seaborn as sns\n",
    "from sklearn.preprocessing import StandardScaler\n",
    "from sklearn.feature_selection import SelectKBest, f_classif, mutual_info_classif\n",
    "from sklearn.model_selection import train_test_split\n",
    "import warnings\n",
    "warnings.filterwarnings('ignore')\n",
    "\n",
    "print(\"Libraries imported successfully!\")"
   ]
  },
  {
   "cell_type": "markdown",
   "metadata": {},
   "source": [
    "## Load Cleaned Data"
   ]
  },
  {
   "cell_type": "code",
   "execution_count": 3,
   "metadata": {},
   "outputs": [
    {
     "name": "stdout",
     "output_type": "stream",
     "text": [
      "Cleaned dataset shape: (203, 12)\n",
      "Features: ['sex', 'hb', 'pcv', 'rbc', 'mcv', 'mch', 'mchc', 'rdw', 'hba', 'hba2', 'hbf', 'phenotype']\n",
      "\n",
      "Class distribution:\n",
      "phenotype\n",
      "alpha carrier    148\n",
      "normal            55\n",
      "Name: count, dtype: int64\n"
     ]
    }
   ],
   "source": [
    "# Load cleaned data\n",
    "df_cleaned = pd.read_csv('outputs/datasets/cleaned/thalassemia_cleaned.csv')\n",
    "print(f\"Cleaned dataset shape: {df_cleaned.shape}\")\n",
    "print(f\"Features: {list(df_cleaned.columns)}\")\n",
    "print(f\"\\nClass distribution:\")\n",
    "print(df_cleaned['phenotype'].value_counts())"
   ]
  },
  {
   "cell_type": "markdown",
   "metadata": {},
   "source": [
    "## Enhanced Feature Engineering"
   ]
  },
  {
   "cell_type": "code",
   "execution_count": 4,
   "metadata": {},
   "outputs": [
    {
     "name": "stdout",
     "output_type": "stream",
     "text": [
      "Enhanced dataset shape: (203, 23)\n",
      "New features created: 11\n"
     ]
    }
   ],
   "source": [
    "# Create enhanced clinical features\n",
    "df_eng = df_cleaned.copy()\n",
    "\n",
    "# Basic clinical indicators\n",
    "df_eng['mentzer_index'] = df_eng['mcv'] / df_eng['rbc']\n",
    "df_eng['microcytosis'] = (df_eng['mcv'] < 80).astype(int)\n",
    "df_eng['hypochromia'] = (df_eng['mch'] < 27).astype(int)\n",
    "df_eng['hba2_elevated'] = (df_eng['hba2'] > 3.5).astype(int)\n",
    "df_eng['rbc_hb_ratio'] = df_eng['rbc'] / df_eng['hb']\n",
    "\n",
    "# Advanced clinical features\n",
    "df_eng['anemia_severity'] = pd.cut(df_eng['hb'], \n",
    "                                  bins=[0, 8, 10, 12, 20], \n",
    "                                  labels=['severe', 'moderate', 'mild', 'normal']).astype(str)\n",
    "df_eng['anemia_severity_encoded'] = pd.Categorical(df_eng['anemia_severity']).codes\n",
    "\n",
    "# Hemoglobin pattern ratios\n",
    "df_eng['hba2_hbf_ratio'] = df_eng['hba2'] / (df_eng['hbf'] + 0.1)  # Add small constant to avoid division by zero\n",
    "df_eng['abnormal_hb_total'] = df_eng['hba2'] + df_eng['hbf']\n",
    "\n",
    "# RBC morphology score (composite indicator)\n",
    "df_eng['morphology_score'] = (df_eng['microcytosis'] + \n",
    "                             df_eng['hypochromia'] + \n",
    "                             (df_eng['mentzer_index'] < 13).astype(int))\n",
    "\n",
    "# Thalassemia probability score (clinical heuristic)\n",
    "df_eng['thal_prob_score'] = (\n",
    "    df_eng['hba2_elevated'] * 3 +\n",
    "    df_eng['microcytosis'] * 2 +\n",
    "    df_eng['hypochromia'] * 2 +\n",
    "    (df_eng['mentzer_index'] < 13).astype(int) * 2 +\n",
    "    (df_eng['rbc'] > 5.0).astype(int) * 1\n",
    ")\n",
    "\n",
    "print(f\"Enhanced dataset shape: {df_eng.shape}\")\n",
    "print(f\"New features created: {df_eng.shape[1] - df_cleaned.shape[1]}\")"
   ]
  },
  {
   "cell_type": "markdown",
   "metadata": {},
   "source": [
    "## Feature Selection and Importance"
   ]
  },
  {
   "cell_type": "code",
   "execution_count": 5,
   "metadata": {},
   "outputs": [
    {
     "name": "stdout",
     "output_type": "stream",
     "text": [
      "Top 10 features by combined score:\n",
      "                    feature   f_score  mi_score  combined_score\n",
      "9                      hba2  3.720449  0.036211        3.756660\n",
      "11            mentzer_index  3.098236  0.000000        3.098236\n",
      "4                       mcv  3.007581  0.000000        3.007581\n",
      "20          thal_prob_score  2.498358  0.000000        2.498358\n",
      "13              hypochromia  2.217919  0.006868        2.224787\n",
      "19         morphology_score  2.033642  0.033573        2.067215\n",
      "17           hba2_hbf_ratio  1.883208  0.049424        1.932632\n",
      "16  anemia_severity_encoded  1.634394  0.003147        1.637541\n",
      "8                       hba  1.563202  0.009823        1.573025\n",
      "5                       mch  1.442801  0.060449        1.503250\n"
     ]
    }
   ],
   "source": [
    "# Prepare features for selection\n",
    "feature_cols = [col for col in df_eng.columns if col not in ['phenotype', 'anemia_severity']]\n",
    "X = df_eng[feature_cols]\n",
    "y = df_eng['phenotype']\n",
    "\n",
    "# Handle any remaining missing values\n",
    "X = X.fillna(X.median())\n",
    "\n",
    "# Feature selection using multiple methods\n",
    "selector_f = SelectKBest(score_func=f_classif, k='all')\n",
    "selector_mi = SelectKBest(score_func=mutual_info_classif, k='all')\n",
    "\n",
    "X_selected_f = selector_f.fit_transform(X, y)\n",
    "X_selected_mi = selector_mi.fit_transform(X, y)\n",
    "\n",
    "# Get feature scores\n",
    "f_scores = pd.DataFrame({\n",
    "    'feature': X.columns,\n",
    "    'f_score': selector_f.scores_,\n",
    "    'mi_score': selector_mi.scores_\n",
    "})\n",
    "\n",
    "f_scores['combined_score'] = f_scores['f_score'] + f_scores['mi_score']\n",
    "f_scores = f_scores.sort_values('combined_score', ascending=False)\n",
    "\n",
    "print(\"Top 10 features by combined score:\")\n",
    "print(f_scores.head(10))"
   ]
  },
  {
   "cell_type": "markdown",
   "metadata": {},
   "source": [
    "## Visualize Feature Importance"
   ]
  },
  {
   "cell_type": "code",
   "execution_count": 6,
   "metadata": {},
   "outputs": [
    {
     "data": {
      "image/png": "[encoded data removed]",
      "text/plain": [
       "<Figure size 1200x800 with 2 Axes>"
      ]
     },
     "metadata": {},
     "output_type": "display_data"
    }
   ],
   "source": [
    "# Plot feature importance\n",
    "plt.figure(figsize=(12, 8))\n",
    "top_features = f_scores.head(15)\n",
    "\n",
    "plt.subplot(2, 1, 1)\n",
    "plt.barh(range(len(top_features)), top_features['f_score'], alpha=0.7)\n",
    "plt.yticks(range(len(top_features)), top_features['feature'])\n",
    "plt.xlabel('F-Score')\n",
    "plt.title('Feature Importance - F-Score')\n",
    "plt.gca().invert_yaxis()\n",
    "\n",
    "plt.subplot(2, 1, 2)\n",
    "plt.barh(range(len(top_features)), top_features['mi_score'], alpha=0.7, color='orange')\n",
    "plt.yticks(range(len(top_features)), top_features['feature'])\n",
    "plt.xlabel('Mutual Information Score')\n",
    "plt.title('Feature Importance - Mutual Information')\n",
    "plt.gca().invert_yaxis()\n",
    "\n",
    "plt.tight_layout()\n",
    "plt.savefig('outputs/datasets/engineered/enhanced_feature_importance.png', dpi=300, bbox_inches='tight')\n",
    "plt.show()"
   ]
  },
  {
   "cell_type": "markdown",
   "metadata": {},
   "source": [
    "## Select Top Features"
   ]
  },
  {
   "cell_type": "code",
   "execution_count": 7,
   "metadata": {},
   "outputs": [
    {
     "name": "stdout",
     "output_type": "stream",
     "text": [
      "Selected 12 features:\n",
      " 1. hba2\n",
      " 2. mentzer_index\n",
      " 3. mcv\n",
      " 4. thal_prob_score\n",
      " 5. hypochromia\n",
      " 6. morphology_score\n",
      " 7. hba2_hbf_ratio\n",
      " 8. anemia_severity_encoded\n",
      " 9. hba\n",
      "10. mch\n",
      "11. rbc_hb_ratio\n",
      "12. rbc\n",
      "\n",
      "Final feature set shape: (203, 12)\n"
     ]
    }
   ],
   "source": [
    "# Select top features for modeling\n",
    "top_k = 12  # Select top 12 features\n",
    "selected_features = f_scores.head(top_k)['feature'].tolist()\n",
    "\n",
    "print(f\"Selected {len(selected_features)} features:\")\n",
    "for i, feature in enumerate(selected_features, 1):\n",
    "    print(f\"{i:2d}. {feature}\")\n",
    "\n",
    "# Create final feature set\n",
    "X_final = df_eng[selected_features]\n",
    "y_final = df_eng['phenotype']\n",
    "\n",
    "print(f\"\\nFinal feature set shape: {X_final.shape}\")"
   ]
  },
  {
   "cell_type": "markdown",
   "metadata": {},
   "source": [
    "## Train-Test Split"
   ]
  },
  {
   "cell_type": "code",
   "execution_count": 8,
   "metadata": {},
   "outputs": [
    {
     "name": "stdout",
     "output_type": "stream",
     "text": [
      "Training set: (162, 12)\n",
      "Test set: (41, 12)\n",
      "\n",
      "Training class distribution:\n",
      "phenotype\n",
      "alpha carrier    118\n",
      "normal            44\n",
      "Name: count, dtype: int64\n",
      "\n",
      "Test class distribution:\n",
      "phenotype\n",
      "alpha carrier    30\n",
      "normal           11\n",
      "Name: count, dtype: int64\n"
     ]
    }
   ],
   "source": [
    "# Split data\n",
    "X_train, X_test, y_train, y_test = train_test_split(\n",
    "    X_final, y_final, \n",
    "    test_size=0.2, \n",
    "    random_state=42, \n",
    "    stratify=y_final\n",
    ")\n",
    "\n",
    "print(f\"Training set: {X_train.shape}\")\n",
    "print(f\"Test set: {X_test.shape}\")\n",
    "print(f\"\\nTraining class distribution:\")\n",
    "print(y_train.value_counts())\n",
    "print(f\"\\nTest class distribution:\")\n",
    "print(y_test.value_counts())"
   ]
  },
  {
   "cell_type": "markdown",
   "metadata": {},
   "source": [
    "## Save Enhanced Features"
   ]
  },
  {
   "cell_type": "code",
   "execution_count": 9,
   "metadata": {},
   "outputs": [
    {
     "name": "stdout",
     "output_type": "stream",
     "text": [
      "Enhanced features saved to: outputs/datasets/enhanced\n",
      "Selected features: 12\n",
      "Training samples: 162\n",
      "Test samples: 41\n"
     ]
    }
   ],
   "source": [
    "# Create enhanced directory\n",
    "import os\n",
    "enhanced_dir = 'outputs/datasets/enhanced'\n",
    "os.makedirs(enhanced_dir, exist_ok=True)\n",
    "\n",
    "# Save datasets\n",
    "X_train.to_csv(f'{enhanced_dir}/X_train_enhanced.csv', index=False)\n",
    "X_test.to_csv(f'{enhanced_dir}/X_test_enhanced.csv', index=False)\n",
    "y_train.to_csv(f'{enhanced_dir}/y_train_enhanced.csv', index=False)\n",
    "y_test.to_csv(f'{enhanced_dir}/y_test_enhanced.csv', index=False)\n",
    "\n",
    "# Save feature importance\n",
    "f_scores.to_csv(f'{enhanced_dir}/feature_importance_enhanced.csv', index=False)\n",
    "\n",
    "# Save selected features list\n",
    "with open(f'{enhanced_dir}/selected_features.txt', 'w') as f:\n",
    "    for feature in selected_features:\n",
    "        f.write(f\"{feature}\\n\")\n",
    "\n",
    "print(f\"Enhanced features saved to: {enhanced_dir}\")\n",
    "print(f\"Selected features: {len(selected_features)}\")\n",
    "print(f\"Training samples: {X_train.shape[0]}\")\n",
    "print(f\"Test samples: {X_test.shape[0]}\")"
   ]
  }
 ],
 "metadata": {
  "kernelspec": {
   "display_name": "tmpKernel",
   "language": "python",
   "name": "tmpkernel"
  },
  "language_info": {
   "codemirror_mode": {
    "name": "ipython",
    "version": 3
   },
   "file_extension": ".py",
   "mimetype": "text/x-python",
   "name": "python",
   "nbconvert_exporter": "python",
   "pygments_lexer": "ipython3",
   "version": "3.9.6"
  }
 },
 "nbformat": 4,
 "nbformat_minor": 4
}
