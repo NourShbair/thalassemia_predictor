{
 "cells": [
  {
   "cell_type": "markdown",
   "metadata": {},
   "source": [
    "# 04 - Feature Engineering for Thalassemia Analysis (Fixed)\n",
    "\n",
    "## Objectives\n",
    "- Load cleaned Thalassemia data\n",
    "- Create clinically relevant features\n",
    "- Analyze feature distributions\n",
    "- Apply appropriate transformations\n",
    "- Prepare data for machine learning\n",
    "\n",
    "## Clinical Context\n",
    "Key Thalassemia indicators:\n",
    "- **Microcytosis**: MCV < 80 fL\n",
    "- **Hypochromia**: MCH < 27 pg\n",
    "- **Mentzer Index**: MCV/RBC < 13\n",
    "- **HbA2 levels**: Normal 1.5-3.5%"
   ]
  },
  {
   "cell_type": "code",
   "execution_count": 1,
   "metadata": {},
   "outputs": [
    {
     "name": "stdout",
     "output_type": "stream",
     "text": [
      "Libraries imported successfully!\n"
     ]
    },
    {
     "data": {
      "text/plain": [
       "'/Users/nour/Desktop/DiplomaProjects/ThalassemiaPredictor/thalassemia_predictor/jupyter_notebooks'"
      ]
     },
     "execution_count": 1,
     "metadata": {},
     "output_type": "execute_result"
    }
   ],
   "source": [
    "import pandas as pd\n",
    "import numpy as np\n",
    "import matplotlib.pyplot as plt\n",
    "import seaborn as sns\n",
    "from sklearn.preprocessing import StandardScaler\n",
    "from sklearn.feature_selection import SelectKBest, f_classif\n",
    "import os\n",
    "\n",
    "# Set display options\n",
    "pd.set_option('display.max_columns', None)\n",
    "sns.set_style(\"whitegrid\")\n",
    "\n",
    "print(\"Libraries imported successfully!\")\n",
    "current_dir = os.getcwd()\n",
    "current_dir"
   ]
  },
  {
   "cell_type": "code",
   "execution_count": 2,
   "metadata": {},
   "outputs": [
    {
     "data": {
      "text/plain": [
       "'/Users/nour/Desktop/DiplomaProjects/ThalassemiaPredictor/thalassemia_predictor'"
      ]
     },
     "execution_count": 2,
     "metadata": {},
     "output_type": "execute_result"
    }
   ],
   "source": [
    "os.chdir(os.path.dirname(current_dir))\n",
    "current_dir = os.getcwd()\n",
    "current_dir"
   ]
  },
  {
   "cell_type": "code",
   "execution_count": 3,
   "metadata": {},
   "outputs": [
    {
     "name": "stdout",
     "output_type": "stream",
     "text": [
      "Training set: (162, 11)\n",
      "Test set: (41, 11)\n",
      "Features: ['sex', 'hb', 'pcv', 'rbc', 'mcv', 'mch', 'mchc', 'rdw', 'hba', 'hba2', 'hbf']\n"
     ]
    }
   ],
   "source": [
    "# Load cleaned data\n",
    "try:\n",
    "    X_train = pd.read_csv('outputs/datasets/cleaned/X_train.csv')\n",
    "    X_test = pd.read_csv('outputs/datasets/cleaned/X_test.csv')\n",
    "    y_train = pd.read_csv('outputs/datasets/cleaned/y_train.csv').squeeze()\n",
    "    y_test = pd.read_csv('outputs/datasets/cleaned/y_test.csv').squeeze()\n",
    "    \n",
    "    print(f\"Training set: {X_train.shape}\")\n",
    "    print(f\"Test set: {X_test.shape}\")\n",
    "    print(f\"Features: {X_train.columns.tolist()}\")\n",
    "    \n",
    "except Exception as e:\n",
    "    print(f\"Error loading data: {e}\")\n",
    "    print(\"Please run the data cleaning notebook first.\")"
   ]
  },
  {
   "cell_type": "markdown",
   "metadata": {},
   "source": [
    "## Clinical Feature Engineering"
   ]
  },
  {
   "cell_type": "code",
   "execution_count": 4,
   "metadata": {},
   "outputs": [
    {
     "name": "stdout",
     "output_type": "stream",
     "text": [
      "Original features: 11\n",
      "Engineered features: 20\n",
      "New features added: 9\n",
      "\n",
      "New clinical features: ['mentzer_index', 'mentzer_thal_indicator', 'rbc_hb_ratio', 'microcytosis', 'hypochromia', 'hba2_elevated', 'hba2_normal', 'rdw_mcv_ratio', 'hba_hba2_ratio']\n"
     ]
    }
   ],
   "source": [
    "def create_thalassemia_features(df):\n",
    "    \"\"\"Create clinically relevant features for Thalassemia diagnosis\"\"\"\n",
    "    df_eng = df.copy()\n",
    "    \n",
    "    # 1. Mentzer Index (MCV/RBC) - Key Thalassemia indicator\n",
    "    if 'mcv' in df.columns and 'rbc' in df.columns:\n",
    "        df_eng['mentzer_index'] = df_eng['mcv'] / df_eng['rbc']\n",
    "        df_eng['mentzer_thal_indicator'] = (df_eng['mentzer_index'] < 13).astype(int)\n",
    "    \n",
    "    # 2. RBC/Hb ratio (elevated in Thalassemia)\n",
    "    if 'rbc' in df.columns and 'hb' in df.columns:\n",
    "        df_eng['rbc_hb_ratio'] = df_eng['rbc'] / df_eng['hb']\n",
    "    \n",
    "    # 3. Clinical indicators\n",
    "    if 'mcv' in df.columns:\n",
    "        df_eng['microcytosis'] = (df_eng['mcv'] < 80).astype(int)\n",
    "    \n",
    "    if 'mch' in df.columns:\n",
    "        df_eng['hypochromia'] = (df_eng['mch'] < 27).astype(int)\n",
    "    \n",
    "    # 4. HbA2 analysis\n",
    "    if 'hba2' in df.columns:\n",
    "        df_eng['hba2_elevated'] = (df_eng['hba2'] > 3.5).astype(int)\n",
    "        df_eng['hba2_normal'] = ((df_eng['hba2'] >= 1.5) & (df_eng['hba2'] <= 3.5)).astype(int)\n",
    "    \n",
    "    # 5. Additional ratios\n",
    "    if 'rdw' in df.columns and 'mcv' in df.columns:\n",
    "        df_eng['rdw_mcv_ratio'] = df_eng['rdw'] / df_eng['mcv']\n",
    "    \n",
    "    if 'hba' in df.columns and 'hba2' in df.columns:\n",
    "        df_eng['hba_hba2_ratio'] = df_eng['hba'] / (df_eng['hba2'] + 0.001)\n",
    "    \n",
    "    return df_eng\n",
    "\n",
    "# Apply clinical feature engineering\n",
    "X_train_eng = create_thalassemia_features(X_train)\n",
    "X_test_eng = create_thalassemia_features(X_test)\n",
    "\n",
    "print(f\"Original features: {X_train.shape[1]}\")\n",
    "print(f\"Engineered features: {X_train_eng.shape[1]}\")\n",
    "print(f\"New features added: {X_train_eng.shape[1] - X_train.shape[1]}\")\n",
    "\n",
    "new_features = [col for col in X_train_eng.columns if col not in X_train.columns]\n",
    "print(f\"\\nNew clinical features: {new_features}\")"
   ]
  },
  {
   "cell_type": "markdown",
   "metadata": {},
   "source": [
    "## Feature Distribution Analysis"
   ]
  },
  {
   "cell_type": "code",
   "execution_count": 5,
   "metadata": {},
   "outputs": [
    {
     "data": {
      "image/png": "[encoded data removed]",
      "text/plain": [
       "<Figure size 1500x1000 with 6 Axes>"
      ]
     },
     "metadata": {},
     "output_type": "display_data"
    },
    {
     "name": "stdout",
     "output_type": "stream",
     "text": [
      "\n",
      "Feature Statistics:\n",
      "               hb         mcv         mch         rdw  mentzer_index  \\\n",
      "count  162.000000  162.000000  162.000000  162.000000     162.000000   \n",
      "mean    12.063580   73.808191   24.088272   14.904452      14.903461   \n",
      "std      1.805504    9.102936    3.879959    2.473093       3.342209   \n",
      "min      7.600000   47.700000   11.100000   11.500000       8.358974   \n",
      "25%     10.900000   67.125000   21.225000   13.225000      12.766631   \n",
      "50%     12.000000   73.200000   24.000000   14.700000      14.446114   \n",
      "75%     13.300000   81.425000   26.800000   16.000000      16.867445   \n",
      "max     16.700000   91.700000   35.600000   28.800000      38.049793   \n",
      "\n",
      "       rbc_hb_ratio  \n",
      "count    162.000000  \n",
      "mean       0.425965  \n",
      "std        0.065488  \n",
      "min        0.311364  \n",
      "25%        0.374202  \n",
      "50%        0.417206  \n",
      "75%        0.469937  \n",
      "max        0.679167  \n"
     ]
    }
   ],
   "source": [
    "# Analyze key feature distributions\n",
    "key_features = ['hb', 'mcv', 'mch', 'rdw', 'mentzer_index', 'rbc_hb_ratio']\n",
    "available_key_features = [col for col in key_features if col in X_train_eng.columns]\n",
    "\n",
    "if len(available_key_features) > 0:\n",
    "    fig, axes = plt.subplots(2, 3, figsize=(15, 10))\n",
    "    axes = axes.flatten()\n",
    "    \n",
    "    for i, feature in enumerate(available_key_features[:6]):\n",
    "        if i < len(axes):\n",
    "            X_train_eng[feature].hist(bins=20, ax=axes[i], alpha=0.7, color='skyblue')\n",
    "            axes[i].set_title(f'{feature} Distribution')\n",
    "            axes[i].grid(True, alpha=0.3)\n",
    "    \n",
    "    # Hide unused subplots\n",
    "    for i in range(len(available_key_features), len(axes)):\n",
    "        axes[i].set_visible(False)\n",
    "    \n",
    "    plt.tight_layout()\n",
    "    plt.show()\n",
    "    \n",
    "    print(\"\\nFeature Statistics:\")\n",
    "    print(X_train_eng[available_key_features].describe())\n",
    "else:\n",
    "    print(\"No key features available for analysis.\")"
   ]
  },
  {
   "cell_type": "markdown",
   "metadata": {},
   "source": [
    "## Outlier Detection"
   ]
  },
  {
   "cell_type": "code",
   "execution_count": 6,
   "metadata": {},
   "outputs": [
    {
     "name": "stdout",
     "output_type": "stream",
     "text": [
      "Outlier Analysis Results:\n",
      "==================================================\n",
      "hb:\n",
      "  Outliers: 0 (0.0%)\n",
      "  Normal range: 7.30 - 16.90\n",
      "\n",
      "mcv:\n",
      "  Outliers: 0 (0.0%)\n",
      "  Normal range: 45.68 - 102.88\n",
      "\n",
      "mch:\n",
      "  Outliers: 2 (1.2%)\n",
      "  Normal range: 12.86 - 35.16\n",
      "\n",
      "rdw:\n",
      "  Outliers: 4 (2.5%)\n",
      "  Normal range: 9.06 - 20.16\n",
      "\n",
      "hba2:\n",
      "  Outliers: 12 (7.4%)\n",
      "  Normal range: 2.20 - 3.00\n",
      "\n"
     ]
    }
   ],
   "source": [
    "# Simple outlier detection using IQR method\n",
    "def detect_outliers(df, columns):\n",
    "    \"\"\"Detect outliers using IQR method\"\"\"\n",
    "    outlier_info = {}\n",
    "    \n",
    "    for col in columns:\n",
    "        if col in df.columns:\n",
    "            Q1 = df[col].quantile(0.25)\n",
    "            Q3 = df[col].quantile(0.75)\n",
    "            IQR = Q3 - Q1\n",
    "            lower_bound = Q1 - 1.5 * IQR\n",
    "            upper_bound = Q3 + 1.5 * IQR\n",
    "            \n",
    "            outliers = df[(df[col] < lower_bound) | (df[col] > upper_bound)]\n",
    "            outlier_count = len(outliers)\n",
    "            outlier_percentage = (outlier_count / len(df)) * 100\n",
    "            \n",
    "            outlier_info[col] = {\n",
    "                'count': outlier_count,\n",
    "                'percentage': outlier_percentage,\n",
    "                'lower_bound': lower_bound,\n",
    "                'upper_bound': upper_bound\n",
    "            }\n",
    "    \n",
    "    return outlier_info\n",
    "\n",
    "# Detect outliers in key hematological parameters\n",
    "hematological_features = ['hb', 'mcv', 'mch', 'rdw', 'hba2']\n",
    "available_hema_features = [col for col in hematological_features if col in X_train_eng.columns]\n",
    "\n",
    "outlier_results = detect_outliers(X_train_eng, available_hema_features)\n",
    "\n",
    "print(\"Outlier Analysis Results:\")\n",
    "print(\"=\" * 50)\n",
    "for feature, info in outlier_results.items():\n",
    "    print(f\"{feature}:\")\n",
    "    print(f\"  Outliers: {info['count']} ({info['percentage']:.1f}%)\")\n",
    "    print(f\"  Normal range: {info['lower_bound']:.2f} - {info['upper_bound']:.2f}\")\n",
    "    print()"
   ]
  },
  {
   "cell_type": "markdown",
   "metadata": {},
   "source": [
    "## Feature Correlation Analysis"
   ]
  },
  {
   "cell_type": "code",
   "execution_count": 7,
   "metadata": {},
   "outputs": [
    {
     "name": "stdout",
     "output_type": "stream",
     "text": [
      "Highly Correlated Feature Pairs (|r| > 0.8):\n",
      "==================================================\n",
      "hb <-> pcv: 0.882\n",
      "rbc <-> mentzer_index: -0.812\n",
      "mcv <-> mch: 0.892\n",
      "mcv <-> rbc_hb_ratio: -0.923\n",
      "mcv <-> rdw_mcv_ratio: -0.825\n",
      "mch <-> rbc_hb_ratio: -0.914\n",
      "rdw <-> rdw_mcv_ratio: 0.941\n",
      "rbc_hb_ratio <-> rdw_mcv_ratio: 0.824\n",
      "hba2_normal <-> hba_hba2_ratio: -0.812\n"
     ]
    }
   ],
   "source": [
    "# Correlation analysis for feature selection\n",
    "correlation_matrix = X_train_eng.corr()\n",
    "\n",
    "# Find highly correlated feature pairs\n",
    "def find_correlated_features(corr_matrix, threshold=0.8):\n",
    "    \"\"\"Find pairs of highly correlated features\"\"\"\n",
    "    high_corr_pairs = []\n",
    "    \n",
    "    for i in range(len(corr_matrix.columns)):\n",
    "        for j in range(i+1, len(corr_matrix.columns)):\n",
    "            if abs(corr_matrix.iloc[i, j]) > threshold:\n",
    "                high_corr_pairs.append({\n",
    "                    'feature1': corr_matrix.columns[i],\n",
    "                    'feature2': corr_matrix.columns[j],\n",
    "                    'correlation': corr_matrix.iloc[i, j]\n",
    "                })\n",
    "    \n",
    "    return high_corr_pairs\n",
    "\n",
    "high_corr_features = find_correlated_features(correlation_matrix, threshold=0.8)\n",
    "\n",
    "print(\"Highly Correlated Feature Pairs (|r| > 0.8):\")\n",
    "print(\"=\" * 50)\n",
    "for pair in high_corr_features:\n",
    "    print(f\"{pair['feature1']} <-> {pair['feature2']}: {pair['correlation']:.3f}\")\n",
    "\n",
    "if not high_corr_features:\n",
    "    print(\"No highly correlated feature pairs found.\")"
   ]
  },
  {
   "cell_type": "markdown",
   "metadata": {},
   "source": [
    "## Feature Importance Analysis"
   ]
  },
  {
   "cell_type": "code",
   "execution_count": 8,
   "metadata": {},
   "outputs": [
    {
     "name": "stdout",
     "output_type": "stream",
     "text": [
      "Feature Importance (ANOVA F-test):\n",
      "==================================================\n",
      "          feature     score   p_value\n",
      "9            hba2  2.322729  0.129470\n",
      "10            hbf  2.304558  0.130968\n",
      "15    hypochromia  2.206015  0.139441\n",
      "4             mcv  1.774327  0.184742\n",
      "11  mentzer_index  1.622770  0.204553\n",
      "8             hba  1.222645  0.270502\n",
      "14   microcytosis  0.967314  0.326836\n",
      "18  rdw_mcv_ratio  0.817040  0.367406\n",
      "17    hba2_normal  0.749255  0.388008\n",
      "6            mchc  0.724581  0.395918\n"
     ]
    },
    {
     "name": "stderr",
     "output_type": "stream",
     "text": [
      "/Users/nour/Desktop/DiplomaProjects/ThalassemiaPredictor/thalassemia_predictor/.venv/lib/python3.9/site-packages/sklearn/feature_selection/_univariate_selection.py:111: UserWarning: Features [16] are constant.\n",
      "  warnings.warn(\"Features %s are constant.\" % constant_features_idx, UserWarning)\n",
      "/Users/nour/Desktop/DiplomaProjects/ThalassemiaPredictor/thalassemia_predictor/.venv/lib/python3.9/site-packages/sklearn/feature_selection/_univariate_selection.py:112: RuntimeWarning: invalid value encountered in divide\n",
      "  f = msb / msw\n"
     ]
    },
    {
     "data": {
      "image/png": "[encoded data removed]",
      "text/plain": [
       "<Figure size 1200x600 with 1 Axes>"
      ]
     },
     "metadata": {},
     "output_type": "display_data"
    }
   ],
   "source": [
    "# Encode target for analysis\n",
    "from sklearn.preprocessing import LabelEncoder\n",
    "\n",
    "le = LabelEncoder()\n",
    "y_train_encoded = le.fit_transform(y_train)\n",
    "\n",
    "# Feature importance using ANOVA F-test\n",
    "selector = SelectKBest(score_func=f_classif, k='all')\n",
    "selector.fit(X_train_eng, y_train_encoded)\n",
    "\n",
    "# Get feature scores\n",
    "feature_scores = pd.DataFrame({\n",
    "    'feature': X_train_eng.columns,\n",
    "    'score': selector.scores_,\n",
    "    'p_value': selector.pvalues_\n",
    "}).sort_values('score', ascending=False)\n",
    "\n",
    "print(\"Feature Importance (ANOVA F-test):\")\n",
    "print(\"=\" * 50)\n",
    "print(feature_scores.head(10))\n",
    "\n",
    "# Plot top 10 features\n",
    "plt.figure(figsize=(12, 6))\n",
    "top_features = feature_scores.head(10)\n",
    "plt.barh(range(len(top_features)), top_features['score'])\n",
    "plt.yticks(range(len(top_features)), top_features['feature'])\n",
    "plt.xlabel('F-Score')\n",
    "plt.title('Top 10 Most Important Features for Thalassemia Classification')\n",
    "plt.gca().invert_yaxis()\n",
    "plt.tight_layout()\n",
    "plt.show()"
   ]
  },
  {
   "cell_type": "markdown",
   "metadata": {},
   "source": [
    "## Feature Engineering Summary and Recommendations"
   ]
  },
  {
   "cell_type": "code",
   "execution_count": 9,
   "metadata": {},
   "outputs": [
    {
     "name": "stdout",
     "output_type": "stream",
     "text": [
      "============================================================\n",
      "FEATURE ENGINEERING SUMMARY\n",
      "============================================================\n",
      "\n",
      "1. DATASET OVERVIEW:\n",
      "   - Training samples: 162\n",
      "   - Original features: 11\n",
      "   - Engineered features: 20\n",
      "   - New features added: 9\n",
      "\n",
      "2. CLINICAL FEATURES CREATED:\n",
      "   - mentzer_index\n",
      "   - mentzer_thal_indicator\n",
      "   - rbc_hb_ratio\n",
      "   - microcytosis\n",
      "   - hypochromia\n",
      "   - hba2_elevated\n",
      "   - hba2_normal\n",
      "   - rdw_mcv_ratio\n",
      "   - hba_hba2_ratio\n",
      "\n",
      "3. TOP 5 MOST IMPORTANT FEATURES:\n",
      "   1. hba2 (F-score: 2.32)\n",
      "   2. hbf (F-score: 2.30)\n",
      "   3. hypochromia (F-score: 2.21)\n",
      "   4. mcv (F-score: 1.77)\n",
      "   5. mentzer_index (F-score: 1.62)\n",
      "\n",
      "4. CLINICAL VALIDATION:\n",
      "   - Mentzer Index created: True\n",
      "   - Microcytosis indicator: True\n",
      "   - Hypochromia indicator: True\n",
      "   - HbA2 analysis: True\n",
      "\n",
      "5. RECOMMENDATIONS:\n",
      "   - Focus on top-scoring clinical features for modeling\n",
      "   - Consider feature interactions (e.g., MCV × RBC)\n",
      "   - Validate clinical thresholds with domain experts\n",
      "   - Test ensemble methods to capture feature relationships\n",
      "\n",
      "============================================================\n"
     ]
    }
   ],
   "source": [
    "print(\"=\" * 60)\n",
    "print(\"FEATURE ENGINEERING SUMMARY\")\n",
    "print(\"=\" * 60)\n",
    "\n",
    "print(f\"\\n1. DATASET OVERVIEW:\")\n",
    "print(f\"   - Training samples: {X_train_eng.shape[0]}\")\n",
    "print(f\"   - Original features: {X_train.shape[1]}\")\n",
    "print(f\"   - Engineered features: {X_train_eng.shape[1]}\")\n",
    "print(f\"   - New features added: {X_train_eng.shape[1] - X_train.shape[1]}\")\n",
    "\n",
    "print(f\"\\n2. CLINICAL FEATURES CREATED:\")\n",
    "clinical_features = [col for col in X_train_eng.columns if col not in X_train.columns]\n",
    "for feature in clinical_features:\n",
    "    print(f\"   - {feature}\")\n",
    "\n",
    "print(f\"\\n3. TOP 5 MOST IMPORTANT FEATURES:\")\n",
    "for i, (_, row) in enumerate(feature_scores.head(5).iterrows()):\n",
    "    print(f\"   {i+1}. {row['feature']} (F-score: {row['score']:.2f})\")\n",
    "\n",
    "print(f\"\\n4. CLINICAL VALIDATION:\")\n",
    "print(f\"   - Mentzer Index created: {'mentzer_index' in clinical_features}\")\n",
    "print(f\"   - Microcytosis indicator: {'microcytosis' in clinical_features}\")\n",
    "print(f\"   - Hypochromia indicator: {'hypochromia' in clinical_features}\")\n",
    "print(f\"   - HbA2 analysis: {'hba2_elevated' in clinical_features}\")\n",
    "\n",
    "print(f\"\\n5. RECOMMENDATIONS:\")\n",
    "print(f\"   - Focus on top-scoring clinical features for modeling\")\n",
    "print(f\"   - Consider feature interactions (e.g., MCV × RBC)\")\n",
    "print(f\"   - Validate clinical thresholds with domain experts\")\n",
    "print(f\"   - Test ensemble methods to capture feature relationships\")\n",
    "\n",
    "print(\"\\n\" + \"=\" * 60)"
   ]
  },
  {
   "cell_type": "markdown",
   "metadata": {},
   "source": [
    "## Save Engineered Features"
   ]
  },
  {
   "cell_type": "code",
   "execution_count": 10,
   "metadata": {},
   "outputs": [
    {
     "name": "stdout",
     "output_type": "stream",
     "text": [
      "Engineered features saved to: outputs/datasets/engineered/\n",
      "Files created:\n",
      "- X_train_engineered.csv\n",
      "- X_test_engineered.csv\n",
      "- y_train.csv\n",
      "- y_test.csv\n",
      "- feature_importance.csv\n",
      "\n",
      "Feature engineering completed successfully!\n",
      "Data is ready for machine learning model development.\n"
     ]
    }
   ],
   "source": [
    "# Create output directory\n",
    "output_dir = 'outputs/datasets/engineered/'\n",
    "os.makedirs(output_dir, exist_ok=True)\n",
    "\n",
    "# Save engineered datasets\n",
    "try:\n",
    "    X_train_eng.to_csv(f'{output_dir}X_train_engineered.csv', index=False)\n",
    "    X_test_eng.to_csv(f'{output_dir}X_test_engineered.csv', index=False)\n",
    "    y_train.to_csv(f'{output_dir}y_train.csv', index=False)\n",
    "    y_test.to_csv(f'{output_dir}y_test.csv', index=False)\n",
    "    \n",
    "    # Save feature importance results\n",
    "    feature_scores.to_csv(f'{output_dir}feature_importance.csv', index=False)\n",
    "    \n",
    "    print(f\"Engineered features saved to: {output_dir}\")\n",
    "    print(\"Files created:\")\n",
    "    print(\"- X_train_engineered.csv\")\n",
    "    print(\"- X_test_engineered.csv\")\n",
    "    print(\"- y_train.csv\")\n",
    "    print(\"- y_test.csv\")\n",
    "    print(\"- feature_importance.csv\")\n",
    "    \n",
    "except Exception as e:\n",
    "    print(f\"Error saving files: {e}\")\n",
    "\n",
    "print(\"\\nFeature engineering completed successfully!\")\n",
    "print(\"Data is ready for machine learning model development.\")"
   ]
  },
  {
   "cell_type": "markdown",
   "metadata": {},
   "source": [
    "## Clinical Feature Validation"
   ]
  },
  {
   "cell_type": "code",
   "execution_count": 11,
   "metadata": {},
   "outputs": [
    {
     "name": "stdout",
     "output_type": "stream",
     "text": [
      "Clinical Feature Validation:\n",
      "========================================\n",
      "\n",
      "Mentzer Index by Phenotype:\n",
      "                    mean       std  count\n",
      "phenotype                                \n",
      "alpha carrier  15.107330  3.504506    118\n",
      "normal         14.356721  2.826074     44\n",
      "\n",
      "Mentzer Index < 13 (Thalassemia indicator):\n",
      "phenotype\n",
      "alpha carrier    33\n",
      "normal           15\n",
      "Name: mentzer_thal_indicator, dtype: int64\n",
      "\n",
      "Microcytosis (MCV < 80) prevalence:\n",
      "phenotype\n",
      "alpha carrier    79\n",
      "normal           33\n",
      "Name: microcytosis, dtype: int64\n",
      "\n",
      "HbA2 elevation (> 3.5%) prevalence:\n",
      "phenotype\n",
      "alpha carrier    0\n",
      "normal           0\n",
      "Name: hba2_elevated, dtype: int64\n",
      "\n",
      "Feature engineering analysis completed!\n",
      "The engineered dataset is ready for machine learning model training.\n"
     ]
    }
   ],
   "source": [
    "# Validate clinical features by comparing distributions between phenotypes\n",
    "if 'mentzer_index' in X_train_eng.columns:\n",
    "    train_with_target = X_train_eng.copy()\n",
    "    train_with_target['phenotype'] = y_train\n",
    "    \n",
    "    print(\"Clinical Feature Validation:\")\n",
    "    print(\"=\" * 40)\n",
    "    \n",
    "    # Mentzer Index validation\n",
    "    mentzer_by_phenotype = train_with_target.groupby('phenotype')['mentzer_index'].agg(['mean', 'std', 'count'])\n",
    "    print(\"\\nMentzer Index by Phenotype:\")\n",
    "    print(mentzer_by_phenotype)\n",
    "    \n",
    "    # Count of Mentzer Index < 13 by phenotype\n",
    "    if 'mentzer_thal_indicator' in train_with_target.columns:\n",
    "        mentzer_indicator_counts = train_with_target.groupby('phenotype')['mentzer_thal_indicator'].sum()\n",
    "        print(\"\\nMentzer Index < 13 (Thalassemia indicator):\")\n",
    "        print(mentzer_indicator_counts)\n",
    "    \n",
    "    # Microcytosis prevalence\n",
    "    if 'microcytosis' in train_with_target.columns:\n",
    "        microcytosis_counts = train_with_target.groupby('phenotype')['microcytosis'].sum()\n",
    "        print(\"\\nMicrocytosis (MCV < 80) prevalence:\")\n",
    "        print(microcytosis_counts)\n",
    "    \n",
    "    # HbA2 elevation\n",
    "    if 'hba2_elevated' in train_with_target.columns:\n",
    "        hba2_elevated_counts = train_with_target.groupby('phenotype')['hba2_elevated'].sum()\n",
    "        print(\"\\nHbA2 elevation (> 3.5%) prevalence:\")\n",
    "        print(hba2_elevated_counts)\n",
    "\n",
    "print(\"\\nFeature engineering analysis completed!\")\n",
    "print(\"The engineered dataset is ready for machine learning model training.\")"
   ]
  }
 ],
 "metadata": {
  "kernelspec": {
   "display_name": "ThalassemiaEnv",
   "language": "python",
   "name": "thalassemiaenv"
  },
  "language_info": {
   "codemirror_mode": {
    "name": "ipython",
    "version": 3
   },
   "file_extension": ".py",
   "mimetype": "text/x-python",
   "name": "python",
   "nbconvert_exporter": "python",
   "pygments_lexer": "ipython3",
   "version": "3.9.6"
  }
 },
 "nbformat": 4,
 "nbformat_minor": 4
}
