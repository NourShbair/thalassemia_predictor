{
 "cells": [
  {
   "cell_type": "markdown",
   "metadata": {},
   "source": [
    "# Thalassemia Classification - ML Implementation\n",
    "\n",
    "## Objectives\n",
    "* Implement advanced ML techniques for improved performance\n",
    "* Address class imbalance with SMOTE\n",
    "* Optimize hyperparameters with GridSearchCV\n",
    "* Add feature scaling and ensemble methods\n",
    "* Include SHAP for model interpretability\n",
    "* Optimize prediction threshold for clinical use"
   ]
  },
  {
   "cell_type": "code",
   "execution_count": 1,
   "metadata": {},
   "outputs": [
    {
     "name": "stdout",
     "output_type": "stream",
     "text": [
      "Working directory: /Users/nour/Desktop/thalassemia_predictor_v2\n"
     ]
    }
   ],
   "source": [
    "import os\n",
    "current_dir = os.getcwd()\n",
    "os.chdir(os.path.dirname(current_dir))\n",
    "print(f\"Working directory: {os.getcwd()}\")"
   ]
  },
  {
   "cell_type": "code",
   "execution_count": 2,
   "metadata": {},
   "outputs": [
    {
     "name": "stdout",
     "output_type": "stream",
     "text": [
      "All libraries imported successfully!\n"
     ]
    }
   ],
   "source": [
    "# Enhanced imports\n",
    "import numpy as np\n",
    "import pandas as pd\n",
    "import matplotlib.pyplot as plt\n",
    "import seaborn as sns\n",
    "import joblib\n",
    "import warnings\n",
    "warnings.filterwarnings('ignore')\n",
    "\n",
    "# ML imports\n",
    "from sklearn.model_selection import train_test_split, cross_val_score, GridSearchCV, StratifiedKFold\n",
    "from sklearn.preprocessing import StandardScaler, LabelEncoder\n",
    "from sklearn.ensemble import RandomForestClassifier, GradientBoostingClassifier, VotingClassifier\n",
    "from sklearn.linear_model import LogisticRegression\n",
    "from sklearn.metrics import classification_report, confusion_matrix, f1_score, precision_recall_curve\n",
    "from imblearn.over_sampling import SMOTE\n",
    "import xgboost as xgb\n",
    "import shap\n",
    "\n",
    "print(\"All libraries imported successfully!\")"
   ]
  },
  {
   "cell_type": "markdown",
   "metadata": {},
   "source": [
    "## Step 1: Load Engineered Data"
   ]
  },
  {
   "cell_type": "code",
   "execution_count": 3,
   "metadata": {},
   "outputs": [
    {
     "name": "stdout",
     "output_type": "stream",
     "text": [
      "Training set: (162, 12)\n",
      "Test set: (41, 12)\n",
      "Features: ['hba2', 'mentzer_index', 'mcv', 'thal_prob_score', 'hypochromia', 'morphology_score', 'hba2_hbf_ratio', 'anemia_severity_encoded', 'hba', 'mch', 'rbc_hb_ratio', 'rbc']\n",
      "Class distribution: phenotype\n",
      "alpha carrier    118\n",
      "normal            44\n",
      "Name: count, dtype: int64\n"
     ]
    }
   ],
   "source": [
    "# Load engineered features\n",
    "\n",
    "X_train = pd.read_csv('outputs/datasets/enhanced/X_train_enhanced.csv')\n",
    "X_test = pd.read_csv('outputs/datasets/enhanced/X_test_enhanced.csv')\n",
    "y_train = pd.read_csv('outputs/datasets/enhanced/y_train_enhanced.csv').squeeze()\n",
    "y_test = pd.read_csv('outputs/datasets/enhanced/y_test_enhanced.csv').squeeze()\n",
    "\n",
    "print(f\"Training set: {X_train.shape}\")\n",
    "print(f\"Test set: {X_test.shape}\")\n",
    "print(f\"Features: {list(X_train.columns)}\")\n",
    "print(f\"Class distribution: {y_train.value_counts()}\")"
   ]
  },
  {
   "cell_type": "markdown",
   "metadata": {},
   "source": [
    "## Step 2: Feature Scaling"
   ]
  },
  {
   "cell_type": "code",
   "execution_count": 13,
   "metadata": {},
   "outputs": [
    {
     "name": "stdout",
     "output_type": "stream",
     "text": [
      "Scaled features: ['hba2', 'mcv', 'mentzer_index', 'rbc_hb_ratio']\n",
      "Scaled training set shape: (162, 12)\n"
     ]
    }
   ],
   "source": [
    "# Apply feature scaling to numerical features\n",
    "numerical_features = ['hba2', 'hbf', 'mcv', 'mentzer_index', 'rbc_hb_ratio']\n",
    "available_numerical = [f for f in numerical_features if f in X_train.columns]\n",
    "\n",
    "scaler = StandardScaler()\n",
    "X_train_scaled = X_train.copy()\n",
    "X_test_scaled = X_test.copy()\n",
    "\n",
    "if available_numerical:\n",
    "    X_train_scaled[available_numerical] = scaler.fit_transform(X_train[available_numerical])\n",
    "    X_test_scaled[available_numerical] = scaler.transform(X_test[available_numerical])\n",
    "    print(f\"Scaled features: {available_numerical}\")\n",
    "else:\n",
    "    print(\"No numerical features found for scaling\")\n",
    "\n",
    "print(f\"Scaled training set shape: {X_train_scaled.shape}\")"
   ]
  },
  {
   "cell_type": "markdown",
   "metadata": {},
   "source": [
    "## Step 3: Handle Class Imbalance with SMOTE"
   ]
  },
  {
   "cell_type": "code",
   "execution_count": 14,
   "metadata": {},
   "outputs": [
    {
     "name": "stdout",
     "output_type": "stream",
     "text": [
      "Label mapping: {'alpha carrier': np.int64(0), 'normal': np.int64(1)}\n",
      "Original class distribution: [118  44]\n",
      "Balanced training set: (236, 12)\n",
      "Balanced class distribution: [118 118]\n"
     ]
    }
   ],
   "source": [
    "# Encode labels for SMOTE\n",
    "label_encoder = LabelEncoder()\n",
    "y_train_encoded = label_encoder.fit_transform(y_train)\n",
    "y_test_encoded = label_encoder.transform(y_test)\n",
    "\n",
    "print(f\"Label mapping: {dict(zip(label_encoder.classes_, label_encoder.transform(label_encoder.classes_)))}\")\n",
    "print(f\"Original class distribution: {np.bincount(y_train_encoded)}\")\n",
    "\n",
    "# Apply SMOTE\n",
    "smote = SMOTE(random_state=8, k_neighbors=3)  # Reduced k_neighbors for small dataset\n",
    "X_train_balanced, y_train_balanced = smote.fit_resample(X_train_scaled, y_train_encoded)\n",
    "\n",
    "print(f\"Balanced training set: {X_train_balanced.shape}\")\n",
    "print(f\"Balanced class distribution: {np.bincount(y_train_balanced)}\")"
   ]
  },
  {
   "cell_type": "markdown",
   "metadata": {},
   "source": [
    "## Step 4: Hyperparameter Optimization"
   ]
  },
  {
   "cell_type": "code",
   "execution_count": 15,
   "metadata": {},
   "outputs": [
    {
     "data": {
      "text/html": [
       "<div>\n",
       "<style scoped>\n",
       "    .dataframe tbody tr th:only-of-type {\n",
       "        vertical-align: middle;\n",
       "    }\n",
       "\n",
       "    .dataframe tbody tr th {\n",
       "        vertical-align: top;\n",
       "    }\n",
       "\n",
       "    .dataframe thead th {\n",
       "        text-align: right;\n",
       "    }\n",
       "</style>\n",
       "<table border=\"1\" class=\"dataframe\">\n",
       "  <thead>\n",
       "    <tr style=\"text-align: right;\">\n",
       "      <th></th>\n",
       "      <th>hba2</th>\n",
       "      <th>mentzer_index</th>\n",
       "      <th>mcv</th>\n",
       "      <th>thal_prob_score</th>\n",
       "      <th>hypochromia</th>\n",
       "      <th>morphology_score</th>\n",
       "      <th>hba2_hbf_ratio</th>\n",
       "      <th>anemia_severity_encoded</th>\n",
       "      <th>hba</th>\n",
       "      <th>mch</th>\n",
       "      <th>rbc_hb_ratio</th>\n",
       "      <th>rbc</th>\n",
       "    </tr>\n",
       "  </thead>\n",
       "  <tbody>\n",
       "    <tr>\n",
       "      <th>0</th>\n",
       "      <td>0.329764</td>\n",
       "      <td>0.150956</td>\n",
       "      <td>0.847601</td>\n",
       "      <td>1</td>\n",
       "      <td>0</td>\n",
       "      <td>0</td>\n",
       "      <td>4.200000</td>\n",
       "      <td>2</td>\n",
       "      <td>84.864586</td>\n",
       "      <td>28.400000</td>\n",
       "      <td>-1.086491</td>\n",
       "      <td>5.290000</td>\n",
       "    </tr>\n",
       "    <tr>\n",
       "      <th>1</th>\n",
       "      <td>1.583407</td>\n",
       "      <td>-0.416827</td>\n",
       "      <td>-1.014699</td>\n",
       "      <td>4</td>\n",
       "      <td>1</td>\n",
       "      <td>2</td>\n",
       "      <td>7.750000</td>\n",
       "      <td>1</td>\n",
       "      <td>87.500000</td>\n",
       "      <td>20.700000</td>\n",
       "      <td>0.870996</td>\n",
       "      <td>4.780000</td>\n",
       "    </tr>\n",
       "    <tr>\n",
       "      <th>2</th>\n",
       "      <td>0.391419</td>\n",
       "      <td>-0.584537</td>\n",
       "      <td>-0.695133</td>\n",
       "      <td>7</td>\n",
       "      <td>1</td>\n",
       "      <td>3</td>\n",
       "      <td>2.454545</td>\n",
       "      <td>0</td>\n",
       "      <td>86.400000</td>\n",
       "      <td>21.300000</td>\n",
       "      <td>0.664840</td>\n",
       "      <td>5.210000</td>\n",
       "    </tr>\n",
       "    <tr>\n",
       "      <th>3</th>\n",
       "      <td>0.329764</td>\n",
       "      <td>0.774773</td>\n",
       "      <td>1.442656</td>\n",
       "      <td>0</td>\n",
       "      <td>0</td>\n",
       "      <td>0</td>\n",
       "      <td>4.200000</td>\n",
       "      <td>2</td>\n",
       "      <td>84.864586</td>\n",
       "      <td>28.100000</td>\n",
       "      <td>-1.047885</td>\n",
       "      <td>4.970000</td>\n",
       "    </tr>\n",
       "    <tr>\n",
       "      <th>4</th>\n",
       "      <td>0.059473</td>\n",
       "      <td>0.785452</td>\n",
       "      <td>1.288382</td>\n",
       "      <td>0</td>\n",
       "      <td>0</td>\n",
       "      <td>0</td>\n",
       "      <td>2.978044</td>\n",
       "      <td>2</td>\n",
       "      <td>86.523291</td>\n",
       "      <td>28.500000</td>\n",
       "      <td>-1.068557</td>\n",
       "      <td>4.880000</td>\n",
       "    </tr>\n",
       "    <tr>\n",
       "      <th>...</th>\n",
       "      <td>...</td>\n",
       "      <td>...</td>\n",
       "      <td>...</td>\n",
       "      <td>...</td>\n",
       "      <td>...</td>\n",
       "      <td>...</td>\n",
       "      <td>...</td>\n",
       "      <td>...</td>\n",
       "      <td>...</td>\n",
       "      <td>...</td>\n",
       "      <td>...</td>\n",
       "      <td>...</td>\n",
       "    </tr>\n",
       "    <tr>\n",
       "      <th>231</th>\n",
       "      <td>-0.121466</td>\n",
       "      <td>0.262524</td>\n",
       "      <td>0.731935</td>\n",
       "      <td>3</td>\n",
       "      <td>1</td>\n",
       "      <td>1</td>\n",
       "      <td>7.362814</td>\n",
       "      <td>2</td>\n",
       "      <td>86.936734</td>\n",
       "      <td>26.327889</td>\n",
       "      <td>-0.689124</td>\n",
       "      <td>5.117282</td>\n",
       "    </tr>\n",
       "    <tr>\n",
       "      <th>232</th>\n",
       "      <td>-1.067920</td>\n",
       "      <td>0.113312</td>\n",
       "      <td>-0.891531</td>\n",
       "      <td>4</td>\n",
       "      <td>1</td>\n",
       "      <td>2</td>\n",
       "      <td>6.869193</td>\n",
       "      <td>0</td>\n",
       "      <td>87.228958</td>\n",
       "      <td>21.239242</td>\n",
       "      <td>0.574679</td>\n",
       "      <td>4.334100</td>\n",
       "    </tr>\n",
       "    <tr>\n",
       "      <th>233</th>\n",
       "      <td>0.689416</td>\n",
       "      <td>-0.970470</td>\n",
       "      <td>-0.883537</td>\n",
       "      <td>7</td>\n",
       "      <td>1</td>\n",
       "      <td>3</td>\n",
       "      <td>9.333333</td>\n",
       "      <td>0</td>\n",
       "      <td>85.515322</td>\n",
       "      <td>20.207661</td>\n",
       "      <td>1.064543</td>\n",
       "      <td>5.639213</td>\n",
       "    </tr>\n",
       "    <tr>\n",
       "      <th>234</th>\n",
       "      <td>0.254590</td>\n",
       "      <td>-0.931220</td>\n",
       "      <td>-1.073275</td>\n",
       "      <td>7</td>\n",
       "      <td>1</td>\n",
       "      <td>3</td>\n",
       "      <td>1.888383</td>\n",
       "      <td>0</td>\n",
       "      <td>85.807137</td>\n",
       "      <td>21.156145</td>\n",
       "      <td>0.737007</td>\n",
       "      <td>5.441935</td>\n",
       "    </tr>\n",
       "    <tr>\n",
       "      <th>235</th>\n",
       "      <td>-0.943666</td>\n",
       "      <td>-1.354819</td>\n",
       "      <td>-2.194471</td>\n",
       "      <td>7</td>\n",
       "      <td>1</td>\n",
       "      <td>3</td>\n",
       "      <td>15.534300</td>\n",
       "      <td>0</td>\n",
       "      <td>93.277296</td>\n",
       "      <td>17.862801</td>\n",
       "      <td>2.155232</td>\n",
       "      <td>5.181227</td>\n",
       "    </tr>\n",
       "  </tbody>\n",
       "</table>\n",
       "<p>236 rows × 12 columns</p>\n",
       "</div>"
      ],
      "text/plain": [
       "         hba2  mentzer_index       mcv  thal_prob_score  hypochromia  \\\n",
       "0    0.329764       0.150956  0.847601                1            0   \n",
       "1    1.583407      -0.416827 -1.014699                4            1   \n",
       "2    0.391419      -0.584537 -0.695133                7            1   \n",
       "3    0.329764       0.774773  1.442656                0            0   \n",
       "4    0.059473       0.785452  1.288382                0            0   \n",
       "..        ...            ...       ...              ...          ...   \n",
       "231 -0.121466       0.262524  0.731935                3            1   \n",
       "232 -1.067920       0.113312 -0.891531                4            1   \n",
       "233  0.689416      -0.970470 -0.883537                7            1   \n",
       "234  0.254590      -0.931220 -1.073275                7            1   \n",
       "235 -0.943666      -1.354819 -2.194471                7            1   \n",
       "\n",
       "     morphology_score  hba2_hbf_ratio  anemia_severity_encoded        hba  \\\n",
       "0                   0        4.200000                        2  84.864586   \n",
       "1                   2        7.750000                        1  87.500000   \n",
       "2                   3        2.454545                        0  86.400000   \n",
       "3                   0        4.200000                        2  84.864586   \n",
       "4                   0        2.978044                        2  86.523291   \n",
       "..                ...             ...                      ...        ...   \n",
       "231                 1        7.362814                        2  86.936734   \n",
       "232                 2        6.869193                        0  87.228958   \n",
       "233                 3        9.333333                        0  85.515322   \n",
       "234                 3        1.888383                        0  85.807137   \n",
       "235                 3       15.534300                        0  93.277296   \n",
       "\n",
       "           mch  rbc_hb_ratio       rbc  \n",
       "0    28.400000     -1.086491  5.290000  \n",
       "1    20.700000      0.870996  4.780000  \n",
       "2    21.300000      0.664840  5.210000  \n",
       "3    28.100000     -1.047885  4.970000  \n",
       "4    28.500000     -1.068557  4.880000  \n",
       "..         ...           ...       ...  \n",
       "231  26.327889     -0.689124  5.117282  \n",
       "232  21.239242      0.574679  4.334100  \n",
       "233  20.207661      1.064543  5.639213  \n",
       "234  21.156145      0.737007  5.441935  \n",
       "235  17.862801      2.155232  5.181227  \n",
       "\n",
       "[236 rows x 12 columns]"
      ]
     },
     "execution_count": 15,
     "metadata": {},
     "output_type": "execute_result"
    }
   ],
   "source": [
    "X_train_balanced"
   ]
  },
  {
   "cell_type": "code",
   "execution_count": 16,
   "metadata": {},
   "outputs": [
    {
     "name": "stdout",
     "output_type": "stream",
     "text": [
      "Fitting 5 folds for each of 12 candidates, totalling 60 fits\n",
      "Best XGBoost parameters: {'subsample': 0.8, 'n_estimators': 2000, 'min_child_weight': 5, 'max_depth': 15, 'learning_rate': 0.05, 'colsample_bytree': 0.6}\n",
      "Best CV score: 0.720\n"
     ]
    }
   ],
   "source": [
    "# XGBoost hyperparameter tuning\n",
    "xgb_param_grid = {\n",
    "    'n_estimators': [300, 500, 1000, 2000],\n",
    "    'max_depth': [3, 5, 7, 10, 15],\n",
    "    'learning_rate': [0.01, 0.05, 0.1, 0.2],\n",
    "    'subsample': [0.6, 0.8, 1.0],\n",
    "    'colsample_bytree': [0.6, 0.8, 1.0],\n",
    "    'min_child_weight': [1, 3, 5, 10]\n",
    "}\n",
    "\n",
    "# print(\"Starting XGBoost hyperparameter optimization...\")\n",
    "# xgb_grid = GridSearchCV(\n",
    "#     xgb.XGBClassifier(random_state=4, eval_metric='logloss', objective= \"binary:logistic\"),\n",
    "#     xgb_param_grid,\n",
    "#     cv=3,  # Reduced for faster execution\n",
    "#     scoring='f1_weighted',\n",
    "#     n_jobs=-2,\n",
    "#     verbose=1\n",
    "# )\n",
    "from sklearn.model_selection import RandomizedSearchCV\n",
    "from sklearn.model_selection import StratifiedKFold\n",
    "\n",
    "cv = StratifiedKFold(n_splits=5, shuffle=True, random_state=42)\n",
    "\n",
    "xgb_grid = RandomizedSearchCV(\n",
    "    xgb.XGBClassifier(random_state=4, eval_metric='logloss', objective=\"binary:logistic\"),\n",
    "    param_distributions=xgb_param_grid,\n",
    "    n_iter=12,  # number of parameter sets to try\n",
    "    cv=cv,\n",
    "    scoring='f1_weighted',\n",
    "    n_jobs=-1,\n",
    "    verbose=1,\n",
    "    random_state=42\n",
    ")\n",
    "\n",
    "xgb_grid.fit(X_train_balanced, y_train_balanced)\n",
    "best_xgb = xgb_grid.best_estimator_\n",
    "\n",
    "print(f\"Best XGBoost parameters: {xgb_grid.best_params_}\")\n",
    "print(f\"Best CV score: {xgb_grid.best_score_:.3f}\")"
   ]
  },
  {
   "cell_type": "markdown",
   "metadata": {},
   "source": [
    "## Step 5: Ensemble Methods"
   ]
  },
  {
   "cell_type": "code",
   "execution_count": 17,
   "metadata": {},
   "outputs": [
    {
     "name": "stdout",
     "output_type": "stream",
     "text": [
      "Training individual models...\n",
      "Training ensemble model...\n",
      "Ensemble F1-Score: 0.728\n"
     ]
    }
   ],
   "source": [
    "# Train individual models first\n",
    "# rf_model = RandomForestClassifier(n_estimators=600, random_state=4, class_weight='balanced')\n",
    "# gb_model = GradientBoostingClassifier(n_estimators=600, random_state=4)\n",
    "\n",
    "rf_model = RandomForestClassifier(class_weight=\"balanced\", n_estimators=1000, max_depth=None, random_state=42)\n",
    "gb_model = GradientBoostingClassifier(n_estimators=2000, learning_rate=0.05, max_depth=None, random_state=42)\n",
    "\n",
    "print(\"Training individual models...\")\n",
    "rf_model.fit(X_train_balanced, y_train_balanced)\n",
    "gb_model.fit(X_train_balanced, y_train_balanced)\n",
    "\n",
    "\n",
    "ensemble = VotingClassifier([\n",
    "    ('xgb', best_xgb),\n",
    "    ('rf', rf_model),\n",
    "    ('gb', gb_model)\n",
    "], voting='soft', weights=[3, 1, 1])\n",
    "\n",
    "print(\"Training ensemble model...\")\n",
    "ensemble.fit(X_train_balanced, y_train_balanced)\n",
    "\n",
    "# Evaluate ensemble\n",
    "ensemble_pred = ensemble.predict(X_test_scaled)\n",
    "ensemble_f1 = f1_score(y_test_encoded, ensemble_pred, average='weighted')\n",
    "print(f\"Ensemble F1-Score: {ensemble_f1:.3f}\")"
   ]
  },
  {
   "cell_type": "markdown",
   "metadata": {},
   "source": [
    "## Step 6: Threshold Optimization"
   ]
  },
  {
   "cell_type": "code",
   "execution_count": 18,
   "metadata": {},
   "outputs": [
    {
     "name": "stdout",
     "output_type": "stream",
     "text": [
      "Optimal threshold: 0.738\n",
      "Optimal F1-score: 0.556\n",
      "Optimized F1-Score: 0.789\n"
     ]
    }
   ],
   "source": [
    "# Optimize prediction threshold\n",
    "y_proba = best_xgb.predict_proba(X_test_scaled)[:, 1]\n",
    "precisions, recalls, thresholds = precision_recall_curve(y_test_encoded, y_proba)\n",
    "\n",
    "# Calculate F1 scores for different thresholds\n",
    "f1_scores = 2 * (precisions * recalls) / (precisions + recalls + 1e-8)\n",
    "optimal_idx = np.argmax(f1_scores)\n",
    "optimal_threshold = thresholds[optimal_idx] if optimal_idx < len(thresholds) else 0.5\n",
    "\n",
    "print(f\"Optimal threshold: {optimal_threshold:.3f}\")\n",
    "print(f\"Optimal F1-score: {f1_scores[optimal_idx]:.3f}\")\n",
    "\n",
    "# Apply optimal threshold\n",
    "y_pred_optimized = (y_proba >= optimal_threshold).astype(int)\n",
    "optimized_f1 = f1_score(y_test_encoded, y_pred_optimized, average='weighted')\n",
    "print(f\"Optimized F1-Score: {optimized_f1:.3f}\")\n"
   ]
  },
  {
   "cell_type": "markdown",
   "metadata": {},
   "source": [
    "## Step 7: Model Interpretability with SHAP"
   ]
  },
  {
   "cell_type": "code",
   "execution_count": 19,
   "metadata": {},
   "outputs": [
    {
     "name": "stdout",
     "output_type": "stream",
     "text": [
      "Generating SHAP explanations...\n"
     ]
    },
    {
     "data": {
      "image/png": "[encoded data removed]",
      "text/plain": [
       "<Figure size 800x630 with 1 Axes>"
      ]
     },
     "metadata": {},
     "output_type": "display_data"
    },
    {
     "name": "stdout",
     "output_type": "stream",
     "text": [
      "SHAP analysis completed!\n"
     ]
    }
   ],
   "source": [
    "# SHAP analysis\n",
    "print(\"Generating SHAP explanations...\")\n",
    "explainer = shap.TreeExplainer(best_xgb)\n",
    "shap_values = explainer.shap_values(X_test_scaled)\n",
    "\n",
    "# Plot SHAP summary\n",
    "plt.figure(figsize=(10, 6))\n",
    "shap.summary_plot(shap_values, X_test_scaled, plot_type=\"bar\", show=False)\n",
    "plt.title('SHAP Feature Importance')\n",
    "plt.tight_layout()\n",
    "plt.savefig('outputs/ml_pipeline/predict_thalassemia/v2_improved/shap_importance.png', dpi=300, bbox_inches='tight')\n",
    "plt.show()\n",
    "\n",
    "print(\"SHAP analysis completed!\")"
   ]
  },
  {
   "cell_type": "markdown",
   "metadata": {},
   "source": [
    "## Step 8: Comprehensive Model Evaluation"
   ]
  },
  {
   "cell_type": "code",
   "execution_count": 20,
   "metadata": {},
   "outputs": [
    {
     "name": "stdout",
     "output_type": "stream",
     "text": [
      "\n",
      "Model Performance Comparison:\n",
      "                 Model  F1_Weighted  F1_Macro\n",
      "0  XGBoost (Optimized)        0.789     0.715\n",
      "2        Random Forest        0.748     0.669\n",
      "1             Ensemble        0.728     0.648\n",
      "3    Gradient Boosting        0.659     0.565\n",
      "\n",
      "Best Model: XGBoost (Optimized)\n"
     ]
    }
   ],
   "source": [
    "# Compare all models\n",
    "models = {\n",
    "    'XGBoost (Optimized)': best_xgb,\n",
    "    'Ensemble': ensemble,\n",
    "    'Random Forest': rf_model,\n",
    "    'Gradient Boosting': gb_model\n",
    "}\n",
    "\n",
    "results = []\n",
    "for name, model in models.items():\n",
    "    if name == 'XGBoost (Optimized)':\n",
    "        pred = y_pred_optimized\n",
    "    else:\n",
    "        pred = model.predict(X_test_scaled)\n",
    "    \n",
    "    f1_weighted = f1_score(y_test_encoded, pred, average='weighted')\n",
    "    f1_macro = f1_score(y_test_encoded, pred, average='macro')\n",
    "    \n",
    "    results.append({\n",
    "        'Model': name,\n",
    "        'F1_Weighted': f1_weighted,\n",
    "        'F1_Macro': f1_macro\n",
    "    })\n",
    "\n",
    "results_df = pd.DataFrame(results)\n",
    "results_df = results_df.sort_values('F1_Weighted', ascending=False)\n",
    "print(\"\\nModel Performance Comparison:\")\n",
    "print(results_df.round(3))\n",
    "\n",
    "best_model_name = results_df.iloc[0]['Model']\n",
    "print(f\"\\nBest Model: {best_model_name}\")"
   ]
  },
  {
   "cell_type": "markdown",
   "metadata": {},
   "source": [
    "## Step 9: Save Enhanced Models"
   ]
  },
  {
   "cell_type": "code",
   "execution_count": 22,
   "metadata": {},
   "outputs": [
    {
     "name": "stdout",
     "output_type": "stream",
     "text": [
      "Enhanced models saved to: outputs/ml_pipeline/predict_thalassemia/v5_enhanced\n",
      "Best F1-Score achieved: 0.789\n"
     ]
    }
   ],
   "source": [
    "# Create enhanced model directory\n",
    "import os\n",
    "enhanced_model_dir = 'outputs/ml_pipeline/predict_thalassemia/v5_enhanced'\n",
    "os.makedirs(enhanced_model_dir, exist_ok=True)\n",
    "\n",
    "# Save all components\n",
    "joblib.dump(best_xgb, f'{enhanced_model_dir}/best_xgb_model.pkl')\n",
    "joblib.dump(ensemble, f'{enhanced_model_dir}/ensemble_model.pkl')\n",
    "joblib.dump(scaler, f'{enhanced_model_dir}/feature_scaler.pkl')\n",
    "joblib.dump(label_encoder, f'{enhanced_model_dir}/label_encoder.pkl')\n",
    "\n",
    "# Save optimal threshold\n",
    "import json\n",
    "model_config = {\n",
    "    'optimal_threshold': float(optimal_threshold),\n",
    "    'best_model': best_model_name,\n",
    "    'best_f1_score': float(results_df.iloc[0]['F1_Weighted']),\n",
    "    'features': list(X_train.columns)\n",
    "}\n",
    "\n",
    "with open(f'{enhanced_model_dir}/model_config.json', 'w') as f:\n",
    "    json.dump(model_config, f, indent=2)\n",
    "\n",
    "# Save performance results\n",
    "results_df.to_csv(f'{enhanced_model_dir}/model_comparison.csv', index=False)\n",
    "\n",
    "print(f\"Enhanced models saved to: {enhanced_model_dir}\")\n",
    "print(f\"Best F1-Score achieved: {results_df.iloc[0]['F1_Weighted']:.3f}\")"
   ]
  },
  {
   "cell_type": "code",
   "execution_count": null,
   "metadata": {},
   "outputs": [],
   "source": []
  },
  {
   "cell_type": "code",
   "execution_count": null,
   "metadata": {},
   "outputs": [],
   "source": []
  }
 ],
 "metadata": {
  "kernelspec": {
   "display_name": "tmpKernel",
   "language": "python",
   "name": "tmpkernel"
  },
  "language_info": {
   "codemirror_mode": {
    "name": "ipython",
    "version": 3
   },
   "file_extension": ".py",
   "mimetype": "text/x-python",
   "name": "python",
   "nbconvert_exporter": "python",
   "pygments_lexer": "ipython3",
   "version": "3.9.6"
  }
 },
 "nbformat": 4,
 "nbformat_minor": 4
}
