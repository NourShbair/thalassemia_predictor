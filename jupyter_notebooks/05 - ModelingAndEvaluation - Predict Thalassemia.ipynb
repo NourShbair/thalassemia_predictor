{
 "cells": [
  {
   "cell_type": "markdown",
   "metadata": {},
   "source": [
    "# Thalassemia Classification - ML Implementation\n",
    "\n",
    "## Objectives\n",
    "* Implement advanced ML techniques for improved performance\n",
    "* Address class imbalance with SMOTE\n",
    "* Optimize hyperparameters with GridSearchCV\n",
    "* Add feature scaling and ensemble methods\n",
    "* Include SHAP for model interpretability\n",
    "* Optimize prediction threshold for clinical use"
   ]
  },
  {
   "cell_type": "code",
   "execution_count": 1,
   "metadata": {},
   "outputs": [
    {
     "name": "stdout",
     "output_type": "stream",
     "text": [
      "Working directory: /Users/nour/Desktop/thalassemia_predictor_v2\n"
     ]
    }
   ],
   "source": [
    "import os\n",
    "current_dir = os.getcwd()\n",
    "os.chdir(os.path.dirname(current_dir))\n",
    "print(f\"Working directory: {os.getcwd()}\")"
   ]
  },
  {
   "cell_type": "code",
   "execution_count": 2,
   "metadata": {},
   "outputs": [
    {
     "name": "stdout",
     "output_type": "stream",
     "text": [
      "All libraries imported successfully!\n"
     ]
    }
   ],
   "source": [
    "# Enhanced imports\n",
    "import numpy as np\n",
    "import pandas as pd\n",
    "import matplotlib.pyplot as plt\n",
    "import seaborn as sns\n",
    "import joblib\n",
    "import warnings\n",
    "warnings.filterwarnings('ignore')\n",
    "\n",
    "# ML imports\n",
    "from sklearn.model_selection import train_test_split, cross_val_score, GridSearchCV, StratifiedKFold\n",
    "from sklearn.preprocessing import StandardScaler, LabelEncoder\n",
    "from sklearn.ensemble import RandomForestClassifier, GradientBoostingClassifier, VotingClassifier\n",
    "from sklearn.linear_model import LogisticRegression\n",
    "from sklearn.metrics import classification_report, confusion_matrix, f1_score, precision_recall_curve\n",
    "from imblearn.over_sampling import SMOTE\n",
    "import xgboost as xgb\n",
    "import shap\n",
    "\n",
    "print(\"All libraries imported successfully!\")"
   ]
  },
  {
   "cell_type": "markdown",
   "metadata": {},
   "source": [
    "## Step 1: Load Engineered Data"
   ]
  },
  {
   "cell_type": "code",
   "execution_count": 3,
   "metadata": {},
   "outputs": [
    {
     "name": "stdout",
     "output_type": "stream",
     "text": [
      "Training set: (162, 20)\n",
      "Test set: (41, 20)\n",
      "Features: ['sex', 'hb', 'pcv', 'rbc', 'mcv', 'mch', 'mchc', 'rdw', 'hba', 'hba2', 'hbf', 'mentzer_index', 'mentzer_thal_indicator', 'rbc_hb_ratio', 'microcytosis', 'hypochromia', 'hba2_elevated', 'hba2_normal', 'rdw_mcv_ratio', 'hba_hba2_ratio']\n",
      "Class distribution: phenotype\n",
      "alpha carrier    118\n",
      "normal            44\n",
      "Name: count, dtype: int64\n"
     ]
    }
   ],
   "source": [
    "# Load engineered features\n",
    "X_train = pd.read_csv('outputs/datasets/engineered/X_train_engineered.csv')\n",
    "X_test = pd.read_csv('outputs/datasets/engineered/X_test_engineered.csv')\n",
    "y_train = pd.read_csv('outputs/datasets/engineered/y_train.csv').squeeze()\n",
    "y_test = pd.read_csv('outputs/datasets/engineered/y_test.csv').squeeze()\n",
    "\n",
    "print(f\"Training set: {X_train.shape}\")\n",
    "print(f\"Test set: {X_test.shape}\")\n",
    "print(f\"Features: {list(X_train.columns)}\")\n",
    "print(f\"Class distribution: {y_train.value_counts()}\")"
   ]
  },
  {
   "cell_type": "markdown",
   "metadata": {},
   "source": [
    "## Step 2: Feature Scaling"
   ]
  },
  {
   "cell_type": "code",
   "execution_count": 4,
   "metadata": {},
   "outputs": [
    {
     "name": "stdout",
     "output_type": "stream",
     "text": [
      "Scaled features: ['hba2', 'hbf', 'mcv', 'mentzer_index', 'rbc_hb_ratio']\n",
      "Scaled training set shape: (162, 20)\n"
     ]
    }
   ],
   "source": [
    "# Apply feature scaling to numerical features\n",
    "numerical_features = ['hba2', 'hbf', 'mcv', 'mentzer_index', 'rbc_hb_ratio']\n",
    "available_numerical = [f for f in numerical_features if f in X_train.columns]\n",
    "\n",
    "scaler = StandardScaler()\n",
    "X_train_scaled = X_train.copy()\n",
    "X_test_scaled = X_test.copy()\n",
    "\n",
    "if available_numerical:\n",
    "    X_train_scaled[available_numerical] = scaler.fit_transform(X_train[available_numerical])\n",
    "    X_test_scaled[available_numerical] = scaler.transform(X_test[available_numerical])\n",
    "    print(f\"Scaled features: {available_numerical}\")\n",
    "else:\n",
    "    print(\"No numerical features found for scaling\")\n",
    "\n",
    "print(f\"Scaled training set shape: {X_train_scaled.shape}\")"
   ]
  },
  {
   "cell_type": "markdown",
   "metadata": {},
   "source": [
    "## Step 3: Handle Class Imbalance with SMOTE"
   ]
  },
  {
   "cell_type": "code",
   "execution_count": 5,
   "metadata": {},
   "outputs": [
    {
     "name": "stdout",
     "output_type": "stream",
     "text": [
      "Label mapping: {'alpha carrier': np.int64(0), 'normal': np.int64(1)}\n",
      "Original class distribution: [118  44]\n",
      "Balanced training set: (236, 20)\n",
      "Balanced class distribution: [118 118]\n"
     ]
    }
   ],
   "source": [
    "# Encode labels for SMOTE\n",
    "label_encoder = LabelEncoder()\n",
    "y_train_encoded = label_encoder.fit_transform(y_train)\n",
    "y_test_encoded = label_encoder.transform(y_test)\n",
    "\n",
    "print(f\"Label mapping: {dict(zip(label_encoder.classes_, label_encoder.transform(label_encoder.classes_)))}\")\n",
    "print(f\"Original class distribution: {np.bincount(y_train_encoded)}\")\n",
    "\n",
    "# Apply SMOTE\n",
    "smote = SMOTE(random_state=42, k_neighbors=3)  # Reduced k_neighbors for small dataset\n",
    "X_train_balanced, y_train_balanced = smote.fit_resample(X_train_scaled, y_train_encoded)\n",
    "\n",
    "print(f\"Balanced training set: {X_train_balanced.shape}\")\n",
    "print(f\"Balanced class distribution: {np.bincount(y_train_balanced)}\")"
   ]
  },
  {
   "cell_type": "markdown",
   "metadata": {},
   "source": [
    "## Step 4: Hyperparameter Optimization"
   ]
  },
  {
   "cell_type": "code",
   "execution_count": 6,
   "metadata": {},
   "outputs": [
    {
     "name": "stdout",
     "output_type": "stream",
     "text": [
      "Starting XGBoost hyperparameter optimization...\n",
      "Fitting 3 folds for each of 36 candidates, totalling 108 fits\n",
      "Best XGBoost parameters: {'learning_rate': 0.1, 'max_depth': 5, 'n_estimators': 100, 'subsample': 0.8}\n",
      "Best CV score: 0.764\n"
     ]
    }
   ],
   "source": [
    "# XGBoost hyperparameter tuning\n",
    "xgb_param_grid = {\n",
    "    'n_estimators': [100, 200],\n",
    "    'max_depth': [3, 5, 7],\n",
    "    'learning_rate': [0.01, 0.1, 0.2],\n",
    "    'subsample': [0.8, 1.0]\n",
    "}\n",
    "\n",
    "print(\"Starting XGBoost hyperparameter optimization...\")\n",
    "xgb_grid = GridSearchCV(\n",
    "    xgb.XGBClassifier(random_state=42, eval_metric='logloss'),\n",
    "    xgb_param_grid,\n",
    "    cv=3,  # Reduced for faster execution\n",
    "    scoring='f1_weighted',\n",
    "    n_jobs=-1,\n",
    "    verbose=1\n",
    ")\n",
    "\n",
    "xgb_grid.fit(X_train_balanced, y_train_balanced)\n",
    "best_xgb = xgb_grid.best_estimator_\n",
    "\n",
    "print(f\"Best XGBoost parameters: {xgb_grid.best_params_}\")\n",
    "print(f\"Best CV score: {xgb_grid.best_score_:.3f}\")"
   ]
  },
  {
   "cell_type": "markdown",
   "metadata": {},
   "source": [
    "## Step 5: Ensemble Methods"
   ]
  },
  {
   "cell_type": "code",
   "execution_count": 7,
   "metadata": {},
   "outputs": [
    {
     "name": "stdout",
     "output_type": "stream",
     "text": [
      "Training individual models...\n",
      "Training ensemble model...\n",
      "Ensemble F1-Score: 0.648\n"
     ]
    }
   ],
   "source": [
    "# Train individual models first\n",
    "rf_model = RandomForestClassifier(n_estimators=200, random_state=42, class_weight='balanced')\n",
    "gb_model = GradientBoostingClassifier(n_estimators=200, random_state=42)\n",
    "\n",
    "print(\"Training individual models...\")\n",
    "rf_model.fit(X_train_balanced, y_train_balanced)\n",
    "gb_model.fit(X_train_balanced, y_train_balanced)\n",
    "\n",
    "# Create ensemble with fitted models\n",
    "ensemble = VotingClassifier([\n",
    "    ('xgb', best_xgb),\n",
    "    ('rf', rf_model),\n",
    "    ('gb', gb_model)\n",
    "], voting='soft')\n",
    "\n",
    "print(\"Training ensemble model...\")\n",
    "ensemble.fit(X_train_balanced, y_train_balanced)\n",
    "\n",
    "# Evaluate ensemble\n",
    "ensemble_pred = ensemble.predict(X_test_scaled)\n",
    "ensemble_f1 = f1_score(y_test_encoded, ensemble_pred, average='weighted')\n",
    "print(f\"Ensemble F1-Score: {ensemble_f1:.3f}\")"
   ]
  },
  {
   "cell_type": "markdown",
   "metadata": {},
   "source": [
    "## Step 6: Threshold Optimization"
   ]
  },
  {
   "cell_type": "code",
   "execution_count": 8,
   "metadata": {},
   "outputs": [
    {
     "name": "stdout",
     "output_type": "stream",
     "text": [
      "Optimal threshold: 0.094\n",
      "Optimal F1-score: 0.588\n",
      "Optimized F1-Score: 0.676\n"
     ]
    }
   ],
   "source": [
    "# Optimize prediction threshold\n",
    "y_proba = best_xgb.predict_proba(X_test_scaled)[:, 1]\n",
    "precisions, recalls, thresholds = precision_recall_curve(y_test_encoded, y_proba)\n",
    "\n",
    "# Calculate F1 scores for different thresholds\n",
    "f1_scores = 2 * (precisions * recalls) / (precisions + recalls + 1e-8)\n",
    "optimal_idx = np.argmax(f1_scores)\n",
    "optimal_threshold = thresholds[optimal_idx] if optimal_idx < len(thresholds) else 0.5\n",
    "\n",
    "print(f\"Optimal threshold: {optimal_threshold:.3f}\")\n",
    "print(f\"Optimal F1-score: {f1_scores[optimal_idx]:.3f}\")\n",
    "\n",
    "# Apply optimal threshold\n",
    "y_pred_optimized = (y_proba >= optimal_threshold).astype(int)\n",
    "optimized_f1 = f1_score(y_test_encoded, y_pred_optimized, average='weighted')\n",
    "print(f\"Optimized F1-Score: {optimized_f1:.3f}\")"
   ]
  },
  {
   "cell_type": "markdown",
   "metadata": {},
   "source": [
    "## Step 7: Model Interpretability with SHAP"
   ]
  },
  {
   "cell_type": "code",
   "execution_count": 9,
   "metadata": {},
   "outputs": [
    {
     "name": "stdout",
     "output_type": "stream",
     "text": [
      "Generating SHAP explanations...\n"
     ]
    },
    {
     "data": {
      "image/png": "[encoded data removed]",
      "text/plain": [
       "<Figure size 800x950 with 1 Axes>"
      ]
     },
     "metadata": {},
     "output_type": "display_data"
    },
    {
     "name": "stdout",
     "output_type": "stream",
     "text": [
      "SHAP analysis completed!\n"
     ]
    }
   ],
   "source": [
    "# SHAP analysis\n",
    "print(\"Generating SHAP explanations...\")\n",
    "explainer = shap.TreeExplainer(best_xgb)\n",
    "shap_values = explainer.shap_values(X_test_scaled)\n",
    "\n",
    "# Plot SHAP summary\n",
    "plt.figure(figsize=(10, 6))\n",
    "shap.summary_plot(shap_values, X_test_scaled, plot_type=\"bar\", show=False)\n",
    "plt.title('SHAP Feature Importance')\n",
    "plt.tight_layout()\n",
    "plt.savefig('outputs/ml_pipeline/predict_thalassemia/v2_improved/shap_importance.png', dpi=300, bbox_inches='tight')\n",
    "plt.show()\n",
    "\n",
    "print(\"SHAP analysis completed!\")"
   ]
  },
  {
   "cell_type": "markdown",
   "metadata": {},
   "source": [
    "## Step 8: Comprehensive Model Evaluation"
   ]
  },
  {
   "cell_type": "code",
   "execution_count": 10,
   "metadata": {},
   "outputs": [
    {
     "name": "stdout",
     "output_type": "stream",
     "text": [
      "\n",
      "Model Performance Comparison:\n",
      "                 Model  F1_Weighted  F1_Macro\n",
      "2        Random Forest        0.703     0.592\n",
      "3    Gradient Boosting        0.684     0.573\n",
      "0  XGBoost (Optimized)        0.676     0.648\n",
      "1             Ensemble        0.648     0.518\n",
      "\n",
      "Best Model: Random Forest\n"
     ]
    }
   ],
   "source": [
    "# Compare all models\n",
    "models = {\n",
    "    'XGBoost (Optimized)': best_xgb,\n",
    "    'Ensemble': ensemble,\n",
    "    'Random Forest': rf_model,\n",
    "    'Gradient Boosting': gb_model\n",
    "}\n",
    "\n",
    "results = []\n",
    "for name, model in models.items():\n",
    "    if name == 'XGBoost (Optimized)':\n",
    "        pred = y_pred_optimized\n",
    "    else:\n",
    "        pred = model.predict(X_test_scaled)\n",
    "    \n",
    "    f1_weighted = f1_score(y_test_encoded, pred, average='weighted')\n",
    "    f1_macro = f1_score(y_test_encoded, pred, average='macro')\n",
    "    \n",
    "    results.append({\n",
    "        'Model': name,\n",
    "        'F1_Weighted': f1_weighted,\n",
    "        'F1_Macro': f1_macro\n",
    "    })\n",
    "\n",
    "results_df = pd.DataFrame(results)\n",
    "results_df = results_df.sort_values('F1_Weighted', ascending=False)\n",
    "print(\"\\nModel Performance Comparison:\")\n",
    "print(results_df.round(3))\n",
    "\n",
    "best_model_name = results_df.iloc[0]['Model']\n",
    "print(f\"\\nBest Model: {best_model_name}\")"
   ]
  },
  {
   "cell_type": "markdown",
   "metadata": {},
   "source": [
    "## Step 9: Save Enhanced Models"
   ]
  },
  {
   "cell_type": "code",
   "execution_count": 13,
   "metadata": {},
   "outputs": [
    {
     "name": "stdout",
     "output_type": "stream",
     "text": [
      "Enhanced models saved to: outputs/ml_pipeline/predict_thalassemia/v3_enhanced\n",
      "Best F1-Score achieved: 0.703\n"
     ]
    }
   ],
   "source": [
    "# Create enhanced model directory\n",
    "import os\n",
    "enhanced_model_dir = 'outputs/ml_pipeline/predict_thalassemia/v3_enhanced'\n",
    "os.makedirs(enhanced_model_dir, exist_ok=True)\n",
    "\n",
    "# Save all components\n",
    "joblib.dump(best_xgb, f'{enhanced_model_dir}/best_xgb_model.pkl')\n",
    "joblib.dump(ensemble, f'{enhanced_model_dir}/ensemble_model.pkl')\n",
    "joblib.dump(scaler, f'{enhanced_model_dir}/feature_scaler.pkl')\n",
    "joblib.dump(label_encoder, f'{enhanced_model_dir}/label_encoder.pkl')\n",
    "\n",
    "# Save optimal threshold\n",
    "import json\n",
    "model_config = {\n",
    "    'optimal_threshold': float(optimal_threshold),\n",
    "    'best_model': best_model_name,\n",
    "    'best_f1_score': float(results_df.iloc[0]['F1_Weighted']),\n",
    "    'features': list(X_train.columns)\n",
    "}\n",
    "\n",
    "with open(f'{enhanced_model_dir}/model_config.json', 'w') as f:\n",
    "    json.dump(model_config, f, indent=2)\n",
    "\n",
    "# Save performance results\n",
    "results_df.to_csv(f'{enhanced_model_dir}/model_comparison.csv', index=False)\n",
    "\n",
    "print(f\"Enhanced models saved to: {enhanced_model_dir}\")\n",
    "print(f\"Best F1-Score achieved: {results_df.iloc[0]['F1_Weighted']:.3f}\")"
   ]
  },
  {
   "cell_type": "code",
   "execution_count": null,
   "metadata": {},
   "outputs": [],
   "source": []
  }
 ],
 "metadata": {
  "kernelspec": {
   "display_name": "tmpKernel",
   "language": "python",
   "name": "tmpkernel"
  },
  "language_info": {
   "codemirror_mode": {
    "name": "ipython",
    "version": 3
   },
   "file_extension": ".py",
   "mimetype": "text/x-python",
   "name": "python",
   "nbconvert_exporter": "python",
   "pygments_lexer": "ipython3",
   "version": "3.9.6"
  }
 },
 "nbformat": 4,
 "nbformat_minor": 4
}
